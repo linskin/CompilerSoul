{
 "cells": [
  {
   "cell_type": "code",
   "execution_count": null,
   "id": "initial_id",
   "metadata": {
    "collapsed": true
   },
   "source": [
    ""
   ],
   "outputs": []
  },
  {
   "metadata": {
    "ExecuteTime": {
     "end_time": "2024-05-12T23:03:09.572834Z",
     "start_time": "2024-05-12T23:03:09.448042Z"
    }
   },
   "cell_type": "code",
   "source": [
    "import graphviz\n",
    "import ipywidgets as widgets\n",
    "from IPython.display import display\n",
    "\n",
    "from ditry_version.FiniteAutomaton import construct_fsm\n",
    "from ditry_version.FiniteStateAutomata2 import FiniteStateAutomata2\n",
    "\n",
    "\n",
    "class FSMVisualizer:\n",
    "    def __init__(self, grammar_str):\n",
    "        self.grammar_str = grammar_str\n",
    "\n",
    "    def visualize(self):\n",
    "        # Extract components and construct FSM\n",
    "        fsa = FiniteStateAutomata2(self.grammar_str)\n",
    "        states, alphabet, transition_function, start_state, accept_state = fsa.extract_components()\n",
    "        mid_state, new_tf, mid_accept_state = fsa.construct_fsm()\n",
    "        fsm = construct_fsm(mid_state, alphabet, transition_function, start_state, mid_accept_state)\n",
    "\n",
    "        # Create visualization of FSM\n",
    "        dot = graphviz.Digraph()\n",
    "        for state in fsm.states:\n",
    "            dot.node(state, shape='circle', style='filled', fillcolor='lightblue')\n",
    "        for transition, next_states in fsm.transition_function.items():\n",
    "            for next_state in next_states:\n",
    "                dot.edge(transition[0], next_state, label=transition[1])\n",
    "\n",
    "        # Display input grammar, grammatical quadruple, and FSM graph\n",
    "        display(widgets.VBox([\n",
    "            widgets.HTML('<h2>Input Grammar:</h2><pre>{}</pre>'.format(self.grammar_str)),\n",
    "            widgets.HTML('<h2>Grammatical Quadruple:</h2><pre>{}</pre>'.format(fsa.print_transition_function())),\n",
    "            widgets.Image(value=dot.pipe(format='png')),\n",
    "        ]))\n",
    "\n"
   ],
   "id": "b6cee377bb059628",
   "execution_count": 1,
   "outputs": []
  },
  {
   "metadata": {
    "ExecuteTime": {
     "end_time": "2024-05-12T23:03:11.685859Z",
     "start_time": "2024-05-12T23:03:11.478058Z"
    }
   },
   "cell_type": "code",
   "source": [
    "grammar_str8 = (\"Z ::= Z a | A a | B b\\n\"\n",
    "                    \"A ::= B a | Z a | a\\n\"\n",
    "                    \"B ::= A b | B a | b\")\n",
    "\n",
    "visualizer = FSMVisualizer(grammar_str8)\n",
    "visualizer.visualize()"
   ],
   "id": "5626c7298b86f89",
   "execution_count": 2,
   "outputs": []
  },
  {
   "metadata": {},
   "cell_type": "code",
   "execution_count": null,
   "source": "",
   "id": "b9bb2c5b9307de9",
   "outputs": []
  }
 ],
 "metadata": {
  "kernelspec": {
   "display_name": "Python 3",
   "language": "python",
   "name": "python3"
  },
  "language_info": {
   "codemirror_mode": {
    "name": "ipython",
    "version": 2
   },
   "file_extension": ".py",
   "mimetype": "text/x-python",
   "name": "python",
   "nbconvert_exporter": "python",
   "pygments_lexer": "ipython2",
   "version": "2.7.6"
  }
 },
 "nbformat": 4,
 "nbformat_minor": 5
}

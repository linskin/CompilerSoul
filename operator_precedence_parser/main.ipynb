{
 "cells": [
  {
   "metadata": {
    "ExecuteTime": {
     "end_time": "2024-06-02T08:42:55.382625Z",
     "start_time": "2024-06-02T08:42:55.379114Z"
    }
   },
   "cell_type": "code",
   "source": [
    "grammar_str11 = (\"Z ::= E\\n\"\n",
    "                 \"E ::= T | E + T\\n\"\n",
    "                \"T ::= F | T * F\\n\"\n",
    "                \"F ::= ( E ) | i\\n\")\n",
    "from extract_grammar import GrammaticalQuadrupleExtraction\n",
    "# 示例用法\n",
    "extractor = GrammaticalQuadrupleExtraction()\n",
    "grammar_string = grammar_str11\n",
    "\n",
    "print(\"原始文法: \\n\" + grammar_string)\n",
    "non_terminals, terminals, productions, start = extractor.extract_grammar_components(grammar_string)\n"
   ],
   "id": "acca2415a2a81f6b",
   "outputs": [
    {
     "name": "stdout",
     "output_type": "stream",
     "text": [
      "原始文法: \n",
      "Z ::= E\n",
      "E ::= T | E + T\n",
      "T ::= F | T * F\n",
      "F ::= ( E ) | i\n",
      "\n"
     ]
    }
   ],
   "execution_count": 16
  },
  {
   "metadata": {
    "ExecuteTime": {
     "end_time": "2024-06-02T08:42:57.805516Z",
     "start_time": "2024-06-02T08:42:57.800982Z"
    }
   },
   "cell_type": "code",
   "source": [
    "print(\"非终结符: \", non_terminals)\n",
    "print(\"终结符: \", terminals)\n",
    "print(\"产生式: \", productions)\n",
    "print(\"开始符号: \", start)"
   ],
   "id": "3840187dbba235e2",
   "outputs": [
    {
     "name": "stdout",
     "output_type": "stream",
     "text": [
      "非终结符:  ['Z', 'E', 'T', 'F']\n",
      "终结符:  ['+', '*', '(', ')', 'i']\n",
      "产生式:  {'Z': [['E']], 'E': [['T'], ['E', '+', 'T']], 'T': [['F'], ['T', '*', 'F']], 'F': [['(', 'E', ')'], ['i']]}\n",
      "开始符号:  Z\n"
     ]
    }
   ],
   "execution_count": 17
  },
  {
   "metadata": {
    "ExecuteTime": {
     "end_time": "2024-06-02T08:59:38.931869Z",
     "start_time": "2024-06-02T08:59:30.755990Z"
    }
   },
   "cell_type": "code",
   "source": [
    "def firstvt(grammar, non_terminals, terminals):\n",
    "    first = {nt: set() for nt in non_terminals}\n",
    "\n",
    "    def add_first(nt):\n",
    "        for production in grammar[nt]:\n",
    "            first_symbol = production[0]\n",
    "\n",
    "            if first_symbol in terminals:\n",
    "                first[nt].add(first_symbol)\n",
    "            elif first_symbol in non_terminals:\n",
    "                add_first(first_symbol)\n",
    "                first[nt] |= first[first_symbol]\n",
    "\n",
    "    for nt in non_terminals:\n",
    "        add_first(nt)\n",
    "\n",
    "    return first\n",
    "\n",
    "# 测试数据\n",
    "firstvt_set = firstvt(productions, non_terminals, terminals)\n",
    "\n",
    "# 打印结果\n",
    "for nt in non_terminals:\n",
    "    print(f\"FirstVT({nt}): {firstvt_set[nt]}\")\n"
   ],
   "id": "f9534caba6e76899",
   "outputs": [
    {
     "ename": "RecursionError",
     "evalue": "maximum recursion depth exceeded in comparison",
     "output_type": "error",
     "traceback": [
      "\u001B[1;31m---------------------------------------------------------------------------\u001B[0m",
      "\u001B[1;31mRecursionError\u001B[0m                            Traceback (most recent call last)",
      "Cell \u001B[1;32mIn[27], line 20\u001B[0m\n\u001B[0;32m     17\u001B[0m     \u001B[38;5;28;01mreturn\u001B[39;00m first\n\u001B[0;32m     19\u001B[0m \u001B[38;5;66;03m# 测试数据\u001B[39;00m\n\u001B[1;32m---> 20\u001B[0m firstvt_set \u001B[38;5;241m=\u001B[39m firstvt(productions, non_terminals, terminals)\n\u001B[0;32m     22\u001B[0m \u001B[38;5;66;03m# 打印结果\u001B[39;00m\n\u001B[0;32m     23\u001B[0m \u001B[38;5;28;01mfor\u001B[39;00m nt \u001B[38;5;129;01min\u001B[39;00m non_terminals:\n",
      "Cell \u001B[1;32mIn[27], line 15\u001B[0m, in \u001B[0;36mfirstvt\u001B[1;34m(grammar, non_terminals, terminals)\u001B[0m\n\u001B[0;32m     12\u001B[0m             first[nt] \u001B[38;5;241m|\u001B[39m\u001B[38;5;241m=\u001B[39m first[first_symbol]\n\u001B[0;32m     14\u001B[0m \u001B[38;5;28;01mfor\u001B[39;00m nt \u001B[38;5;129;01min\u001B[39;00m non_terminals:\n\u001B[1;32m---> 15\u001B[0m     add_first(nt)\n\u001B[0;32m     17\u001B[0m \u001B[38;5;28;01mreturn\u001B[39;00m first\n",
      "Cell \u001B[1;32mIn[27], line 11\u001B[0m, in \u001B[0;36mfirstvt.<locals>.add_first\u001B[1;34m(nt)\u001B[0m\n\u001B[0;32m      9\u001B[0m     first[nt]\u001B[38;5;241m.\u001B[39madd(first_symbol)\n\u001B[0;32m     10\u001B[0m \u001B[38;5;28;01melif\u001B[39;00m first_symbol \u001B[38;5;129;01min\u001B[39;00m non_terminals:\n\u001B[1;32m---> 11\u001B[0m     add_first(first_symbol)\n\u001B[0;32m     12\u001B[0m     first[nt] \u001B[38;5;241m|\u001B[39m\u001B[38;5;241m=\u001B[39m first[first_symbol]\n",
      "Cell \u001B[1;32mIn[27], line 11\u001B[0m, in \u001B[0;36mfirstvt.<locals>.add_first\u001B[1;34m(nt)\u001B[0m\n\u001B[0;32m      9\u001B[0m     first[nt]\u001B[38;5;241m.\u001B[39madd(first_symbol)\n\u001B[0;32m     10\u001B[0m \u001B[38;5;28;01melif\u001B[39;00m first_symbol \u001B[38;5;129;01min\u001B[39;00m non_terminals:\n\u001B[1;32m---> 11\u001B[0m     add_first(first_symbol)\n\u001B[0;32m     12\u001B[0m     first[nt] \u001B[38;5;241m|\u001B[39m\u001B[38;5;241m=\u001B[39m first[first_symbol]\n",
      "    \u001B[1;31m[... skipping similar frames: firstvt.<locals>.add_first at line 11 (2968 times)]\u001B[0m\n",
      "Cell \u001B[1;32mIn[27], line 11\u001B[0m, in \u001B[0;36mfirstvt.<locals>.add_first\u001B[1;34m(nt)\u001B[0m\n\u001B[0;32m      9\u001B[0m     first[nt]\u001B[38;5;241m.\u001B[39madd(first_symbol)\n\u001B[0;32m     10\u001B[0m \u001B[38;5;28;01melif\u001B[39;00m first_symbol \u001B[38;5;129;01min\u001B[39;00m non_terminals:\n\u001B[1;32m---> 11\u001B[0m     add_first(first_symbol)\n\u001B[0;32m     12\u001B[0m     first[nt] \u001B[38;5;241m|\u001B[39m\u001B[38;5;241m=\u001B[39m first[first_symbol]\n",
      "Cell \u001B[1;32mIn[27], line 8\u001B[0m, in \u001B[0;36mfirstvt.<locals>.add_first\u001B[1;34m(nt)\u001B[0m\n\u001B[0;32m      5\u001B[0m \u001B[38;5;28;01mfor\u001B[39;00m production \u001B[38;5;129;01min\u001B[39;00m grammar[nt]:\n\u001B[0;32m      6\u001B[0m     first_symbol \u001B[38;5;241m=\u001B[39m production[\u001B[38;5;241m0\u001B[39m]\n\u001B[1;32m----> 8\u001B[0m     \u001B[38;5;28;01mif\u001B[39;00m first_symbol \u001B[38;5;129;01min\u001B[39;00m terminals:\n\u001B[0;32m      9\u001B[0m         first[nt]\u001B[38;5;241m.\u001B[39madd(first_symbol)\n\u001B[0;32m     10\u001B[0m     \u001B[38;5;28;01melif\u001B[39;00m first_symbol \u001B[38;5;129;01min\u001B[39;00m non_terminals:\n",
      "\u001B[1;31mRecursionError\u001B[0m: maximum recursion depth exceeded in comparison"
     ]
    }
   ],
   "execution_count": 27
  },
  {
   "metadata": {
    "ExecuteTime": {
     "end_time": "2024-06-02T08:57:35.708044Z",
     "start_time": "2024-06-02T08:56:42.764633Z"
    }
   },
   "cell_type": "code",
   "source": [
    "def firstvt(grammar, nonterminals, terminals):\n",
    "    first = {nt: set() for nt in nonterminals}\n",
    "    stack = []\n",
    "\n",
    "    def add_first(nt, symbol):\n",
    "        stack.append((nt, symbol))\n",
    "        while stack:\n",
    "            current_nt, current_symbol = stack.pop()\n",
    "            if current_symbol in terminals:\n",
    "                first[current_nt].add(current_symbol)\n",
    "            elif current_symbol in nonterminals:\n",
    "                for prod in grammar[current_symbol]:\n",
    "                    stack.append((current_nt, prod[0]))\n",
    "\n",
    "    for nt in nonterminals:\n",
    "        for prod in grammar[nt]:\n",
    "            add_first(nt, prod[0])\n",
    "\n",
    "    return first\n",
    "\n",
    "def lastvt(grammar, nonterminals, terminals):\n",
    "    last = {nt: set() for nt in nonterminals}\n",
    "    stack = []\n",
    "\n",
    "    def add_last(nt, symbol):\n",
    "        stack.append((nt, symbol))\n",
    "        while stack:\n",
    "            current_nt, current_symbol = stack.pop()\n",
    "            if current_symbol in terminals:\n",
    "                last[current_nt].add(current_symbol)\n",
    "            elif current_symbol in nonterminals:\n",
    "                for prod in grammar[current_symbol]:\n",
    "                    stack.append((current_nt, prod[-1]))\n",
    "\n",
    "    for nt in nonterminals:\n",
    "        for prod in grammar[nt]:\n",
    "            add_last(nt, prod[-1])\n",
    "\n",
    "    return last\n",
    "\n",
    "def operator_precedence_table(nonterminals, terminals, productions):\n",
    "    table = {t1: {t2: '' for t2 in terminals} for t1 in terminals}\n",
    "\n",
    "    first = firstvt(productions, nonterminals, terminals)\n",
    "    last = lastvt(productions, nonterminals, terminals)\n",
    "\n",
    "    for nt, rules in productions.items():\n",
    "        for rule in rules:\n",
    "            for i in range(len(rule) - 1):\n",
    "                if rule[i] in terminals and rule[i + 1] in terminals:\n",
    "                    table[rule[i]][rule[i + 1]] = '='\n",
    "                if rule[i] in terminals and rule[i + 1] in nonterminals:\n",
    "                    for t in first[rule[i + 1]]:\n",
    "                        table[rule[i]][t] = '<'\n",
    "                if rule[i] in nonterminals and rule[i + 1] in terminals:\n",
    "                    for t in last[rule[i]]:\n",
    "                        table[t][rule[i + 1]] = '>'\n",
    "\n",
    "    return table\n",
    "\n",
    "nonterminals = ['Z', 'E', 'T', 'F']\n",
    "terminals = ['+', '*', '(', ')', 'i']\n",
    "productions = {\n",
    "    'Z': [['E']],\n",
    "    'E': [['T'], ['E', '+', 'T']],\n",
    "    'T': [['F'], ['T', '*', 'F']],\n",
    "    'F': [['(', 'E', ')'], ['i']]\n",
    "}\n",
    "\n",
    "table = operator_precedence_table(nonterminals, terminals, productions)\n",
    "\n",
    "# Display the operator precedence table\n",
    "print(\"Operator Precedence Table:\")\n",
    "print(\"  \", \" \".join(terminals))\n",
    "for t1 in terminals:\n",
    "    print(t1, \" \".join(table[t1][t2] if table[t1][t2] else \".\" for t2 in terminals))\n"
   ],
   "id": "fd446aa77aa4384f",
   "outputs": [
    {
     "ename": "KeyboardInterrupt",
     "evalue": "",
     "output_type": "error",
     "traceback": [
      "\u001B[1;31m---------------------------------------------------------------------------\u001B[0m",
      "\u001B[1;31mKeyboardInterrupt\u001B[0m                         Traceback (most recent call last)",
      "Cell \u001B[1;32mIn[25], line 70\u001B[0m\n\u001B[0;32m     62\u001B[0m terminals \u001B[38;5;241m=\u001B[39m [\u001B[38;5;124m'\u001B[39m\u001B[38;5;124m+\u001B[39m\u001B[38;5;124m'\u001B[39m, \u001B[38;5;124m'\u001B[39m\u001B[38;5;124m*\u001B[39m\u001B[38;5;124m'\u001B[39m, \u001B[38;5;124m'\u001B[39m\u001B[38;5;124m(\u001B[39m\u001B[38;5;124m'\u001B[39m, \u001B[38;5;124m'\u001B[39m\u001B[38;5;124m)\u001B[39m\u001B[38;5;124m'\u001B[39m, \u001B[38;5;124m'\u001B[39m\u001B[38;5;124mi\u001B[39m\u001B[38;5;124m'\u001B[39m]\n\u001B[0;32m     63\u001B[0m productions \u001B[38;5;241m=\u001B[39m {\n\u001B[0;32m     64\u001B[0m     \u001B[38;5;124m'\u001B[39m\u001B[38;5;124mZ\u001B[39m\u001B[38;5;124m'\u001B[39m: [[\u001B[38;5;124m'\u001B[39m\u001B[38;5;124mE\u001B[39m\u001B[38;5;124m'\u001B[39m]],\n\u001B[0;32m     65\u001B[0m     \u001B[38;5;124m'\u001B[39m\u001B[38;5;124mE\u001B[39m\u001B[38;5;124m'\u001B[39m: [[\u001B[38;5;124m'\u001B[39m\u001B[38;5;124mT\u001B[39m\u001B[38;5;124m'\u001B[39m], [\u001B[38;5;124m'\u001B[39m\u001B[38;5;124mE\u001B[39m\u001B[38;5;124m'\u001B[39m, \u001B[38;5;124m'\u001B[39m\u001B[38;5;124m+\u001B[39m\u001B[38;5;124m'\u001B[39m, \u001B[38;5;124m'\u001B[39m\u001B[38;5;124mT\u001B[39m\u001B[38;5;124m'\u001B[39m]],\n\u001B[0;32m     66\u001B[0m     \u001B[38;5;124m'\u001B[39m\u001B[38;5;124mT\u001B[39m\u001B[38;5;124m'\u001B[39m: [[\u001B[38;5;124m'\u001B[39m\u001B[38;5;124mF\u001B[39m\u001B[38;5;124m'\u001B[39m], [\u001B[38;5;124m'\u001B[39m\u001B[38;5;124mT\u001B[39m\u001B[38;5;124m'\u001B[39m, \u001B[38;5;124m'\u001B[39m\u001B[38;5;124m*\u001B[39m\u001B[38;5;124m'\u001B[39m, \u001B[38;5;124m'\u001B[39m\u001B[38;5;124mF\u001B[39m\u001B[38;5;124m'\u001B[39m]],\n\u001B[0;32m     67\u001B[0m     \u001B[38;5;124m'\u001B[39m\u001B[38;5;124mF\u001B[39m\u001B[38;5;124m'\u001B[39m: [[\u001B[38;5;124m'\u001B[39m\u001B[38;5;124m(\u001B[39m\u001B[38;5;124m'\u001B[39m, \u001B[38;5;124m'\u001B[39m\u001B[38;5;124mE\u001B[39m\u001B[38;5;124m'\u001B[39m, \u001B[38;5;124m'\u001B[39m\u001B[38;5;124m)\u001B[39m\u001B[38;5;124m'\u001B[39m], [\u001B[38;5;124m'\u001B[39m\u001B[38;5;124mi\u001B[39m\u001B[38;5;124m'\u001B[39m]]\n\u001B[0;32m     68\u001B[0m }\n\u001B[1;32m---> 70\u001B[0m table \u001B[38;5;241m=\u001B[39m operator_precedence_table(nonterminals, terminals, productions)\n\u001B[0;32m     72\u001B[0m \u001B[38;5;66;03m# Display the operator precedence table\u001B[39;00m\n\u001B[0;32m     73\u001B[0m \u001B[38;5;28mprint\u001B[39m(\u001B[38;5;124m\"\u001B[39m\u001B[38;5;124mOperator Precedence Table:\u001B[39m\u001B[38;5;124m\"\u001B[39m)\n",
      "Cell \u001B[1;32mIn[25], line 44\u001B[0m, in \u001B[0;36moperator_precedence_table\u001B[1;34m(nonterminals, terminals, productions)\u001B[0m\n\u001B[0;32m     41\u001B[0m \u001B[38;5;28;01mdef\u001B[39;00m \u001B[38;5;21moperator_precedence_table\u001B[39m(nonterminals, terminals, productions):\n\u001B[0;32m     42\u001B[0m     table \u001B[38;5;241m=\u001B[39m {t1: {t2: \u001B[38;5;124m'\u001B[39m\u001B[38;5;124m'\u001B[39m \u001B[38;5;28;01mfor\u001B[39;00m t2 \u001B[38;5;129;01min\u001B[39;00m terminals} \u001B[38;5;28;01mfor\u001B[39;00m t1 \u001B[38;5;129;01min\u001B[39;00m terminals}\n\u001B[1;32m---> 44\u001B[0m     first \u001B[38;5;241m=\u001B[39m firstvt(productions, nonterminals, terminals)\n\u001B[0;32m     45\u001B[0m     last \u001B[38;5;241m=\u001B[39m lastvt(productions, nonterminals, terminals)\n\u001B[0;32m     47\u001B[0m     \u001B[38;5;28;01mfor\u001B[39;00m nt, rules \u001B[38;5;129;01min\u001B[39;00m productions\u001B[38;5;241m.\u001B[39mitems():\n",
      "Cell \u001B[1;32mIn[25], line 17\u001B[0m, in \u001B[0;36mfirstvt\u001B[1;34m(grammar, nonterminals, terminals)\u001B[0m\n\u001B[0;32m     15\u001B[0m \u001B[38;5;28;01mfor\u001B[39;00m nt \u001B[38;5;129;01min\u001B[39;00m nonterminals:\n\u001B[0;32m     16\u001B[0m     \u001B[38;5;28;01mfor\u001B[39;00m prod \u001B[38;5;129;01min\u001B[39;00m grammar[nt]:\n\u001B[1;32m---> 17\u001B[0m         add_first(nt, prod[\u001B[38;5;241m0\u001B[39m])\n\u001B[0;32m     19\u001B[0m \u001B[38;5;28;01mreturn\u001B[39;00m first\n",
      "Cell \u001B[1;32mIn[25], line 13\u001B[0m, in \u001B[0;36mfirstvt.<locals>.add_first\u001B[1;34m(nt, symbol)\u001B[0m\n\u001B[0;32m     11\u001B[0m \u001B[38;5;28;01melif\u001B[39;00m current_symbol \u001B[38;5;129;01min\u001B[39;00m nonterminals:\n\u001B[0;32m     12\u001B[0m     \u001B[38;5;28;01mfor\u001B[39;00m prod \u001B[38;5;129;01min\u001B[39;00m grammar[current_symbol]:\n\u001B[1;32m---> 13\u001B[0m         stack\u001B[38;5;241m.\u001B[39mappend((current_nt, prod[\u001B[38;5;241m0\u001B[39m]))\n",
      "\u001B[1;31mKeyboardInterrupt\u001B[0m: "
     ]
    }
   ],
   "execution_count": 25
  },
  {
   "metadata": {},
   "cell_type": "code",
   "source": [
    "from collections import defaultdict\n",
    "\n",
    "# 初始化FIRSTVT和LASTVT集\n",
    "FIRSTVT = defaultdict(set)\n",
    "LASTVT = defaultdict(set)\n",
    "\n",
    "# 计算FIRSTVT集\n",
    "def compute_FIRSTVT():\n",
    "    for lhs in non_terminals:\n",
    "        for production in productions[lhs]:\n",
    "            if production[0] in terminals:\n",
    "                FIRSTVT[lhs].add(production[0])\n",
    "            elif len(production) > 1 and production[1] in terminals:\n",
    "                FIRSTVT[lhs].add(production[1])\n",
    "    \n",
    "    change = True\n",
    "    while change:\n",
    "        change = False\n",
    "        for lhs in non_terminals:\n",
    "            for production in productions[lhs]:\n",
    "                for symbol in production:\n",
    "                    if symbol in non_terminals:\n",
    "                        new_elements = FIRSTVT[symbol] - FIRSTVT[lhs]\n",
    "                        if new_elements:\n",
    "                            FIRSTVT[lhs].update(new_elements)\n",
    "                            change = True\n",
    "\n",
    "# 计算LASTVT集\n",
    "def compute_LASTVT():\n",
    "    for lhs in non_terminals:\n",
    "        for production in productions[lhs]:\n",
    "            if production[-1] in terminals:\n",
    "                LASTVT[lhs].add(production[-1])\n",
    "            elif len(production) > 1 and production[-2] in terminals:\n",
    "                LASTVT[lhs].add(production[-2])\n",
    "    \n",
    "    change = True\n",
    "    while change:\n",
    "        change = False\n",
    "        for lhs in non_terminals:\n",
    "            for production in productions[lhs]:\n",
    "                for symbol in reversed(production):\n",
    "                    if symbol in non_terminals:\n",
    "                        new_elements = LASTVT[symbol] - LASTVT[lhs]\n",
    "                        if new_elements:\n",
    "                            LASTVT[lhs].update(new_elements)\n",
    "                            change = True\n",
    "\n",
    "compute_FIRSTVT()\n",
    "compute_LASTVT()\n",
    "\n",
    "print(\"FIRSTVT 集:\")\n",
    "for nt in non_terminals:\n",
    "    print(f\"{nt}: {FIRSTVT[nt]}\")\n",
    "\n",
    "print(\"\\nLASTVT 集:\")\n",
    "for nt in non_terminals:\n",
    "    print(f\"{nt}: {LASTVT[nt]}\")\n"
   ],
   "id": "c20358f29eee93d9",
   "outputs": [],
   "execution_count": null
  },
  {
   "metadata": {
    "ExecuteTime": {
     "end_time": "2024-06-02T08:53:43.801983Z",
     "start_time": "2024-06-02T08:53:43.789925Z"
    }
   },
   "cell_type": "code",
   "source": [
    "# 定义优先关系表\n",
    "priority_table = {\n",
    "    '+': {'+': '>', '*': '<', '(': '<', ')': '>', 'i': '<', '#': '>'},\n",
    "    '*': {'+': '>', '*': '>', '(': '<', ')': '>', 'i': '<', '#': '>'},\n",
    "    '(': {'+': '<', '*': '<', '(': '<', ')': '=', 'i': '<', '#': ''},\n",
    "    ')': {'+': '>', '*': '>', '(': '', ')': '>', 'i': '', '#': '>'},\n",
    "    'i': {'+': '>', '*': '>', '(': '', ')': '>', 'i': '', '#': '>'},\n",
    "    '#': {'+': '<', '*': '<', '(': '<', ')': '', 'i': '<', '#': ''},\n",
    "}\n",
    "\n",
    "# 终结符和非终结符\n",
    "terminals = ['+', '*', '(', ')', 'i']\n",
    "non_terminals = ['Z', 'E', 'T', 'F']\n",
    "\n",
    "# 产生式\n",
    "productions = {\n",
    "    'Z': [['E']],\n",
    "    'E': [['T'], ['E', '+', 'T']],\n",
    "    'T': [['F'], ['T', '*', 'F']],\n",
    "    'F': [['(', 'E', ')'], ['i']]\n",
    "}\n",
    "\n",
    "# 定义优先关系获取函数\n",
    "def get_priority(a, b):\n",
    "    return priority_table[a][b]\n",
    "\n",
    "# 定义规约函数\n",
    "def reduce(stack):\n",
    "    if stack[-1] == 'i':\n",
    "        stack.pop()\n",
    "        stack.append('F')\n",
    "        print(f\"规约: i -> F\")\n",
    "    elif stack[-1] == 'F' and stack[-2] == '*' and stack[-3] == 'T':\n",
    "        stack.pop()\n",
    "        stack.pop()\n",
    "        stack.pop()\n",
    "        stack.append('T')\n",
    "        print(f\"规约: T * F -> T\")\n",
    "    elif stack[-1] == 'T' and stack[-2] == '+' and stack[-3] == 'E':\n",
    "        stack.pop()\n",
    "        stack.pop()\n",
    "        stack.pop()\n",
    "        stack.append('E')\n",
    "        print(f\"规约: E + T -> E\")\n",
    "    elif stack[-1] == 'F':\n",
    "        stack.pop()\n",
    "        stack.append('T')\n",
    "        print(f\"规约: F -> T\")\n",
    "    elif stack[-1] == 'T':\n",
    "        stack.pop()\n",
    "        stack.append('E')\n",
    "        print(f\"规约: T -> E\")\n",
    "    elif stack[-1] == ')' and stack[-2] == 'E' and stack[-3] == '(':\n",
    "        stack.pop()\n",
    "        stack.pop()\n",
    "        stack.pop()\n",
    "        stack.append('F')\n",
    "        print(f\"规约: ( E ) -> F\")\n",
    "\n",
    "# 分析器\n",
    "def operator_precedence_parser(input_string):\n",
    "    stack = ['#']\n",
    "    input_string += '#'\n",
    "    index = 0\n",
    "\n",
    "    while True:\n",
    "        top = stack[-1]\n",
    "        current = input_string[index]\n",
    "\n",
    "        if top in terminals:\n",
    "            priority = get_priority(top, current)\n",
    "        else:\n",
    "            priority = '<'\n",
    "\n",
    "        if priority == '<' or priority == '=':\n",
    "            stack.append(current)\n",
    "            index += 1\n",
    "        elif priority == '>':\n",
    "            reduce(stack)\n",
    "        else:\n",
    "            raise ValueError(f\"Invalid priority between {top} and {current}\")\n",
    "\n",
    "        print(f\"栈: {stack}, 输入: {input_string[index:]}\")\n",
    "\n",
    "        if stack == ['#', 'E'] and input_string[index] == '#':\n",
    "            break\n",
    "        if index >= len(input_string):\n",
    "            break\n",
    "\n",
    "    # 检查是否接受\n",
    "    if stack == ['#', 'E']:\n",
    "        print(\"输入串被接受\")\n",
    "    else:\n",
    "        print(\"输入串被拒绝\")\n",
    "\n",
    "# 示例用法\n",
    "input_string = \"i+i*i\"\n",
    "operator_precedence_parser(input_string)\n"
   ],
   "id": "6ac792a35de99ce3",
   "outputs": [
    {
     "name": "stdout",
     "output_type": "stream",
     "text": [
      "栈: ['#', 'i'], 输入: +i*i#\n",
      "规约: i -> F\n",
      "栈: ['#', 'F'], 输入: +i*i#\n",
      "栈: ['#', 'F', '+'], 输入: i*i#\n",
      "栈: ['#', 'F', '+', 'i'], 输入: *i#\n",
      "规约: i -> F\n",
      "栈: ['#', 'F', '+', 'F'], 输入: *i#\n",
      "栈: ['#', 'F', '+', 'F', '*'], 输入: i#\n",
      "栈: ['#', 'F', '+', 'F', '*', 'i'], 输入: #\n",
      "规约: i -> F\n",
      "栈: ['#', 'F', '+', 'F', '*', 'F'], 输入: #\n",
      "栈: ['#', 'F', '+', 'F', '*', 'F', '#'], 输入: \n",
      "输入串被拒绝\n"
     ]
    }
   ],
   "execution_count": 21
  },
  {
   "metadata": {
    "ExecuteTime": {
     "end_time": "2024-06-02T08:55:35.655554Z",
     "start_time": "2024-06-02T08:55:33.876727Z"
    }
   },
   "cell_type": "code",
   "source": "",
   "id": "4ed7dc54146385c6",
   "outputs": [
    {
     "ename": "RecursionError",
     "evalue": "maximum recursion depth exceeded in comparison",
     "output_type": "error",
     "traceback": [
      "\u001B[1;31m---------------------------------------------------------------------------\u001B[0m",
      "\u001B[1;31mRecursionError\u001B[0m                            Traceback (most recent call last)",
      "Cell \u001B[1;32mIn[22], line 64\u001B[0m\n\u001B[0;32m     56\u001B[0m terminals \u001B[38;5;241m=\u001B[39m [\u001B[38;5;124m'\u001B[39m\u001B[38;5;124m+\u001B[39m\u001B[38;5;124m'\u001B[39m, \u001B[38;5;124m'\u001B[39m\u001B[38;5;124m*\u001B[39m\u001B[38;5;124m'\u001B[39m, \u001B[38;5;124m'\u001B[39m\u001B[38;5;124m(\u001B[39m\u001B[38;5;124m'\u001B[39m, \u001B[38;5;124m'\u001B[39m\u001B[38;5;124m)\u001B[39m\u001B[38;5;124m'\u001B[39m, \u001B[38;5;124m'\u001B[39m\u001B[38;5;124mi\u001B[39m\u001B[38;5;124m'\u001B[39m]\n\u001B[0;32m     57\u001B[0m productions \u001B[38;5;241m=\u001B[39m {\n\u001B[0;32m     58\u001B[0m     \u001B[38;5;124m'\u001B[39m\u001B[38;5;124mZ\u001B[39m\u001B[38;5;124m'\u001B[39m: [[\u001B[38;5;124m'\u001B[39m\u001B[38;5;124mE\u001B[39m\u001B[38;5;124m'\u001B[39m]],\n\u001B[0;32m     59\u001B[0m     \u001B[38;5;124m'\u001B[39m\u001B[38;5;124mE\u001B[39m\u001B[38;5;124m'\u001B[39m: [[\u001B[38;5;124m'\u001B[39m\u001B[38;5;124mT\u001B[39m\u001B[38;5;124m'\u001B[39m], [\u001B[38;5;124m'\u001B[39m\u001B[38;5;124mE\u001B[39m\u001B[38;5;124m'\u001B[39m, \u001B[38;5;124m'\u001B[39m\u001B[38;5;124m+\u001B[39m\u001B[38;5;124m'\u001B[39m, \u001B[38;5;124m'\u001B[39m\u001B[38;5;124mT\u001B[39m\u001B[38;5;124m'\u001B[39m]],\n\u001B[0;32m     60\u001B[0m     \u001B[38;5;124m'\u001B[39m\u001B[38;5;124mT\u001B[39m\u001B[38;5;124m'\u001B[39m: [[\u001B[38;5;124m'\u001B[39m\u001B[38;5;124mF\u001B[39m\u001B[38;5;124m'\u001B[39m], [\u001B[38;5;124m'\u001B[39m\u001B[38;5;124mT\u001B[39m\u001B[38;5;124m'\u001B[39m, \u001B[38;5;124m'\u001B[39m\u001B[38;5;124m*\u001B[39m\u001B[38;5;124m'\u001B[39m, \u001B[38;5;124m'\u001B[39m\u001B[38;5;124mF\u001B[39m\u001B[38;5;124m'\u001B[39m]],\n\u001B[0;32m     61\u001B[0m     \u001B[38;5;124m'\u001B[39m\u001B[38;5;124mF\u001B[39m\u001B[38;5;124m'\u001B[39m: [[\u001B[38;5;124m'\u001B[39m\u001B[38;5;124m(\u001B[39m\u001B[38;5;124m'\u001B[39m, \u001B[38;5;124m'\u001B[39m\u001B[38;5;124mE\u001B[39m\u001B[38;5;124m'\u001B[39m, \u001B[38;5;124m'\u001B[39m\u001B[38;5;124m)\u001B[39m\u001B[38;5;124m'\u001B[39m], [\u001B[38;5;124m'\u001B[39m\u001B[38;5;124mi\u001B[39m\u001B[38;5;124m'\u001B[39m]]\n\u001B[0;32m     62\u001B[0m }\n\u001B[1;32m---> 64\u001B[0m table \u001B[38;5;241m=\u001B[39m operator_precedence_table(nonterminals, terminals, productions)\n\u001B[0;32m     66\u001B[0m \u001B[38;5;66;03m# Display the operator precedence table\u001B[39;00m\n\u001B[0;32m     67\u001B[0m \u001B[38;5;28mprint\u001B[39m(\u001B[38;5;124m\"\u001B[39m\u001B[38;5;124mOperator Precedence Table:\u001B[39m\u001B[38;5;124m\"\u001B[39m)\n",
      "Cell \u001B[1;32mIn[22], line 38\u001B[0m, in \u001B[0;36moperator_precedence_table\u001B[1;34m(nonterminals, terminals, productions)\u001B[0m\n\u001B[0;32m     35\u001B[0m \u001B[38;5;28;01mdef\u001B[39;00m \u001B[38;5;21moperator_precedence_table\u001B[39m(nonterminals, terminals, productions):\n\u001B[0;32m     36\u001B[0m     table \u001B[38;5;241m=\u001B[39m {t1: {t2: \u001B[38;5;124m'\u001B[39m\u001B[38;5;124m'\u001B[39m \u001B[38;5;28;01mfor\u001B[39;00m t2 \u001B[38;5;129;01min\u001B[39;00m terminals} \u001B[38;5;28;01mfor\u001B[39;00m t1 \u001B[38;5;129;01min\u001B[39;00m terminals}\n\u001B[1;32m---> 38\u001B[0m     first \u001B[38;5;241m=\u001B[39m firstvt(productions, nonterminals, terminals)\n\u001B[0;32m     39\u001B[0m     last \u001B[38;5;241m=\u001B[39m lastvt(productions, nonterminals, terminals)\n\u001B[0;32m     41\u001B[0m     \u001B[38;5;28;01mfor\u001B[39;00m nt, rules \u001B[38;5;129;01min\u001B[39;00m productions\u001B[38;5;241m.\u001B[39mitems():\n",
      "Cell \u001B[1;32mIn[22], line 14\u001B[0m, in \u001B[0;36mfirstvt\u001B[1;34m(grammar, nonterminals, terminals)\u001B[0m\n\u001B[0;32m     12\u001B[0m \u001B[38;5;28;01mfor\u001B[39;00m nt \u001B[38;5;129;01min\u001B[39;00m nonterminals:\n\u001B[0;32m     13\u001B[0m     \u001B[38;5;28;01mfor\u001B[39;00m prod \u001B[38;5;129;01min\u001B[39;00m grammar[nt]:\n\u001B[1;32m---> 14\u001B[0m         add_first(nt, prod[\u001B[38;5;241m0\u001B[39m])\n\u001B[0;32m     16\u001B[0m \u001B[38;5;28;01mreturn\u001B[39;00m first\n",
      "Cell \u001B[1;32mIn[22], line 10\u001B[0m, in \u001B[0;36mfirstvt.<locals>.add_first\u001B[1;34m(nt, symbol)\u001B[0m\n\u001B[0;32m      8\u001B[0m \u001B[38;5;28;01melif\u001B[39;00m symbol \u001B[38;5;129;01min\u001B[39;00m nonterminals:\n\u001B[0;32m      9\u001B[0m     \u001B[38;5;28;01mfor\u001B[39;00m prod \u001B[38;5;129;01min\u001B[39;00m grammar[symbol]:\n\u001B[1;32m---> 10\u001B[0m         add_first(nt, prod[\u001B[38;5;241m0\u001B[39m])\n",
      "Cell \u001B[1;32mIn[22], line 10\u001B[0m, in \u001B[0;36mfirstvt.<locals>.add_first\u001B[1;34m(nt, symbol)\u001B[0m\n\u001B[0;32m      8\u001B[0m \u001B[38;5;28;01melif\u001B[39;00m symbol \u001B[38;5;129;01min\u001B[39;00m nonterminals:\n\u001B[0;32m      9\u001B[0m     \u001B[38;5;28;01mfor\u001B[39;00m prod \u001B[38;5;129;01min\u001B[39;00m grammar[symbol]:\n\u001B[1;32m---> 10\u001B[0m         add_first(nt, prod[\u001B[38;5;241m0\u001B[39m])\n",
      "    \u001B[1;31m[... skipping similar frames: firstvt.<locals>.add_first at line 10 (2967 times)]\u001B[0m\n",
      "Cell \u001B[1;32mIn[22], line 10\u001B[0m, in \u001B[0;36mfirstvt.<locals>.add_first\u001B[1;34m(nt, symbol)\u001B[0m\n\u001B[0;32m      8\u001B[0m \u001B[38;5;28;01melif\u001B[39;00m symbol \u001B[38;5;129;01min\u001B[39;00m nonterminals:\n\u001B[0;32m      9\u001B[0m     \u001B[38;5;28;01mfor\u001B[39;00m prod \u001B[38;5;129;01min\u001B[39;00m grammar[symbol]:\n\u001B[1;32m---> 10\u001B[0m         add_first(nt, prod[\u001B[38;5;241m0\u001B[39m])\n",
      "Cell \u001B[1;32mIn[22], line 6\u001B[0m, in \u001B[0;36mfirstvt.<locals>.add_first\u001B[1;34m(nt, symbol)\u001B[0m\n\u001B[0;32m      5\u001B[0m \u001B[38;5;28;01mdef\u001B[39;00m \u001B[38;5;21madd_first\u001B[39m(nt, symbol):\n\u001B[1;32m----> 6\u001B[0m     \u001B[38;5;28;01mif\u001B[39;00m symbol \u001B[38;5;129;01min\u001B[39;00m terminals:\n\u001B[0;32m      7\u001B[0m         first[nt]\u001B[38;5;241m.\u001B[39madd(symbol)\n\u001B[0;32m      8\u001B[0m     \u001B[38;5;28;01melif\u001B[39;00m symbol \u001B[38;5;129;01min\u001B[39;00m nonterminals:\n",
      "\u001B[1;31mRecursionError\u001B[0m: maximum recursion depth exceeded in comparison"
     ]
    }
   ],
   "execution_count": 22
  }
 ],
 "metadata": {
  "kernelspec": {
   "display_name": "Python 3",
   "language": "python",
   "name": "python3"
  },
  "language_info": {
   "codemirror_mode": {
    "name": "ipython",
    "version": 2
   },
   "file_extension": ".py",
   "mimetype": "text/x-python",
   "name": "python",
   "nbconvert_exporter": "python",
   "pygments_lexer": "ipython2",
   "version": "2.7.6"
  }
 },
 "nbformat": 4,
 "nbformat_minor": 5
}

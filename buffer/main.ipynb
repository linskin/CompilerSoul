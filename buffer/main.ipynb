{
 "cells": [
  {
   "cell_type": "markdown",
   "id": "1cd9c7edec9d2808",
   "metadata": {},
   "source": [
    "# Part I: 文法四元组提取 Grammatical quadruple extraction"
   ]
  },
  {
   "cell_type": "code",
   "id": "158428828a43a90",
   "metadata": {
    "ExecuteTime": {
     "end_time": "2024-05-12T07:12:15.163142Z",
     "start_time": "2024-05-12T07:12:15.157016Z"
    }
   },
   "source": "grammar_string = \"E ::= E + T | T\\nT ::= T * F | F\\nF ::= ( E ) | i\"",
   "execution_count": 1,
   "outputs": []
  },
  {
   "cell_type": "markdown",
   "id": "2eca4202ae369380",
   "metadata": {},
   "source": [
    "### 定义文法提取函数"
   ]
  },
  {
   "cell_type": "code",
   "id": "1a138785b365c04d",
   "metadata": {
    "ExecuteTime": {
     "end_time": "2024-05-12T07:12:21.234582Z",
     "start_time": "2024-05-12T07:12:21.228937Z"
    }
   },
   "source": [
    "def add_production(non_terminal, production, productions):\n",
    "    if non_terminal in productions:\n",
    "        productions[non_terminal].append(production)\n",
    "    else:\n",
    "        productions[non_terminal] = [production]\n",
    "\n",
    "def extract_from_line(s):\n",
    "    left,right = s.split('::=')\n",
    "    return left,right\n",
    "\n",
    "def extract_rules_from_right(ls,rs,p):\n",
    "    mid_re = rs.split('|')\n",
    "    for item in mid_re:\n",
    "        item_ts = []\n",
    "        for item_t in item:\n",
    "            item_ts += [item_t]\n",
    "        add_production(ls,item_ts,p)\n",
    "\n",
    "def extract_grammar_components(gs):\n",
    "    production = {}\n",
    "    start = ''\n",
    "    terminators = []\n",
    "    non_terminators = []\n",
    "    gs = gs.replace(' ','')\n",
    "    mid_s = gs.split(\"\\n\")\n",
    "    for item_s in mid_s:\n",
    "        left,right = extract_from_line(item_s)\n",
    "        extract_rules_from_right(left, right, production)\n",
    "        if ('Z' >= left >= 'A') and left not in terminators:\n",
    "            terminators.append(left)\n",
    "        if start == '':\n",
    "            start = left\n",
    "        for item_r in right:\n",
    "            if item_r == '|': continue\n",
    "            if (item_r > 'Z' or item_r < 'A') and item_r not in non_terminators:\n",
    "                non_terminators.append(item_r)\n",
    "    return terminators,non_terminators,production,start"
   ],
   "execution_count": 2,
   "outputs": []
  },
  {
   "cell_type": "markdown",
   "id": "73576b624eed949e",
   "metadata": {},
   "source": [
    "**检验输出**"
   ]
  },
  {
   "cell_type": "code",
   "id": "2e21cf3dd0affa1a",
   "metadata": {
    "ExecuteTime": {
     "end_time": "2024-05-12T07:12:22.304687Z",
     "start_time": "2024-05-12T07:12:22.300461Z"
    }
   },
   "source": [
    "Vt,Vn,P,S = extract_grammar_components(grammar_string)\n",
    "print(grammar_string,'\\n')\n",
    "print(\"Vt: \",Vt)\n",
    "print(\"Vn: \",Vn)\n",
    "print(\"P: \",P)\n",
    "print(\"S: \",S)"
   ],
   "execution_count": 3,
   "outputs": []
  },
  {
   "cell_type": "markdown",
   "id": "f3509308cc5dab1d",
   "metadata": {},
   "source": [
    "# Part II 文法压缩 Grammatical compression"
   ]
  },
  {
   "cell_type": "markdown",
   "id": "4cb20197-0797-41d4-9e59-d191774f3c20",
   "metadata": {},
   "source": [
    "### 测试数据"
   ]
  },
  {
   "cell_type": "code",
   "id": "5e09cb04b0a06bb9",
   "metadata": {
    "ExecuteTime": {
     "end_time": "2024-05-12T07:12:23.845745Z",
     "start_time": "2024-05-12T07:12:23.842810Z"
    }
   },
   "source": [
    "extra_string = \"Z ::= Be\\nA ::= Ae\\nA ::= e\\nB ::= Ce\\nB ::= Af\\nC ::= Cf\\nD ::= f\\nE ::= E\""
   ],
   "execution_count": 4,
   "outputs": []
  },
  {
   "cell_type": "code",
   "id": "c2a382f444f41f9b",
   "metadata": {
    "ExecuteTime": {
     "end_time": "2024-05-12T07:12:24.297862Z",
     "start_time": "2024-05-12T07:12:24.294480Z"
    }
   },
   "source": [
    "e_Vt,e_Vn,e_P,e_S = extract_grammar_components(extra_string)\n",
    "print(extra_string,'\\n')\n",
    "print(e_Vt)\n",
    "print(e_Vn)\n",
    "print(e_P)\n",
    "print(e_S)"
   ],
   "execution_count": 5,
   "outputs": []
  },
  {
   "cell_type": "markdown",
   "id": "205a09ce42de54f6",
   "metadata": {},
   "source": [
    "### 删除U::=U 型的规则"
   ]
  },
  {
   "cell_type": "code",
   "id": "a0873ba7ed3d8566",
   "metadata": {
    "ExecuteTime": {
     "end_time": "2024-05-12T07:12:25.208940Z",
     "start_time": "2024-05-12T07:12:25.205439Z"
    }
   },
   "source": [
    "def print_productions(productions):\n",
    "    for key in productions:\n",
    "        tss = \"\"\n",
    "        for item in productions[key]:\n",
    "            for item_s in item:\n",
    "                for item_t in item_s:\n",
    "                    tss += item_t\n",
    "            tss += '|'\n",
    "        print(f\"{key}::=\",tss[:-1])"
   ],
   "execution_count": 6,
   "outputs": []
  },
  {
   "cell_type": "code",
   "id": "89e938d77231a385",
   "metadata": {
    "ExecuteTime": {
     "end_time": "2024-05-12T07:12:25.884080Z",
     "start_time": "2024-05-12T07:12:25.878898Z"
    }
   },
   "source": [
    "def clean_UtoU(production):\n",
    "    # 创建一个新的字典来保存修改后的产生式\n",
    "    cleaned_production = {}\n",
    "    for key, value in production.items():\n",
    "        for item in value:\n",
    "            if key in item and len(item) == 1:\n",
    "                continue\n",
    "            add_production(key, item, cleaned_production)\n",
    "    return cleaned_production\n",
    "# da = {'Z': [['B', 'e']], 'A': [['A', 'e'], ['e']], 'B': [['C', 'e'], ['A', 'f'],['B']], 'C': [['C', 'f']], 'D': [['D']]}\n",
    "print_productions(clean_UtoU(e_P))"
   ],
   "execution_count": 7,
   "outputs": []
  },
  {
   "cell_type": "markdown",
   "id": "229a8d6bb86293d0",
   "metadata": {},
   "source": [
    "### 删除U::=u 型的规则\n",
    "- 条件1：从S开始，对所有左部为有标记非终结符的生成式的右部的非终结符进行标记，反复进行这一过程至再无满足条件的生成式\n",
    "- 条件2：对所有右部只有终结符的生成式的左部的非终结符进行标记。对所有左部为非终结符且右部只有终结符和标记非终结符的生成式的左部的非终结符进行标记，反复执行这一过程至再无满足条件的生成式\n",
    "- 反复执行条件1和条件2的方法直至再无满足删除条件的生成式"
   ]
  },
  {
   "cell_type": "code",
   "id": "1131dfda65b0dbb7",
   "metadata": {
    "ExecuteTime": {
     "end_time": "2024-05-12T07:12:27.024345Z",
     "start_time": "2024-05-12T07:12:27.017055Z"
    }
   },
   "source": [
    "import copy\n",
    "\n",
    "\n",
    "def clean_Utou1(production, start):\n",
    "    end_production = copy.deepcopy(production)  # 复制原始产生式字典\n",
    "    marks = [start]\n",
    "    start_list = production[start]\n",
    "    # 遍历起始符号的产生式，标记所有出现在其中的非终结符\n",
    "    for item in start_list:\n",
    "        for item_s in item:\n",
    "            if 'A' <= item_s <= 'Z' and item_s not in marks:\n",
    "                marks.append(item_s)\n",
    "    tag1 = True\n",
    "    tag2 = True\n",
    "    while tag1 or tag2:\n",
    "        tag1 = False\n",
    "        tag2 = False\n",
    "        # 根据标记集合更新标记\n",
    "        for key in production:\n",
    "            if key in marks:\n",
    "                continue\n",
    "            k_list = production[key]\n",
    "            for item in k_list:\n",
    "                for item_s in item:\n",
    "                    if 'A' <= item_s <= 'Z' and item_s in marks:\n",
    "                        tag1 = True\n",
    "                        marks.append(key)\n",
    "        for key in marks:\n",
    "            k_list = production[key]\n",
    "            for item in k_list:\n",
    "                for item_s in item:\n",
    "                    if 'A' <= item_s <= 'Z' and item_s not in marks:\n",
    "                        tag2 = True\n",
    "                        marks.append(item_s)\n",
    "    # 根据标记集合删除未标记的产生式\n",
    "    for key in end_production.copy():\n",
    "        if key not in marks:\n",
    "            del end_production[key]\n",
    "    return end_production\n",
    "\n",
    "def clean_Utou2(production):\n",
    "    end_production = {}\n",
    "    marks = []\n",
    "    for key in production:\n",
    "        for item in production[key]:\n",
    "            tag = True\n",
    "            # 检测是否有非终结符\n",
    "            for item_s in item:\n",
    "                if 'A' <= item_s <= 'Z':\n",
    "                    tag = False\n",
    "                    break\n",
    "            # 没有非终结符才能标记\n",
    "            if tag: \n",
    "                marks.append(key)\n",
    "                add_production(key,item,end_production)\n",
    "    tag1 = True\n",
    "    while tag1:\n",
    "        tag1 = False\n",
    "        for key in production:\n",
    "            for item in production[key]:\n",
    "                num_no_mark = False\n",
    "                # 检测右部是否只有被标记的非终结符和终结符\n",
    "                for item_s in item:\n",
    "                    if 'A' <= item_s <= 'Z' and item_s not in marks:\n",
    "                        num_no_mark = True\n",
    "                        break\n",
    "                # 右部只有被标记的非终结符和终结符时才能标记左部,当然前提是这条没被记录过\n",
    "                if not num_no_mark and (key not in end_production or item not in end_production[key]):\n",
    "                    tag1 = True\n",
    "                    marks.append(key)\n",
    "                    add_production(key,item,end_production)\n",
    "    return end_production       "
   ],
   "execution_count": 8,
   "outputs": []
  },
  {
   "cell_type": "markdown",
   "id": "3770d50679a74211",
   "metadata": {},
   "source": [
    "**检验输出**"
   ]
  },
  {
   "cell_type": "code",
   "id": "f3fefc59cb6cc85b",
   "metadata": {
    "ExecuteTime": {
     "end_time": "2024-05-12T07:12:28.122176Z",
     "start_time": "2024-05-12T07:12:28.118194Z"
    }
   },
   "source": [
    "print_productions(e_P)\n",
    "print(\"\")\n",
    "clu = clean_Utou1(e_P,e_S)\n",
    "print_productions(clu)"
   ],
   "execution_count": 9,
   "outputs": []
  },
  {
   "cell_type": "code",
   "id": "46bdfa131292f4a9",
   "metadata": {
    "ExecuteTime": {
     "end_time": "2024-05-12T07:12:28.725102Z",
     "start_time": "2024-05-12T07:12:28.721453Z"
    }
   },
   "source": [
    "print_productions(clean_Utou2(clu))"
   ],
   "execution_count": 10,
   "outputs": []
  },
  {
   "cell_type": "markdown",
   "id": "ee8da9d2cc09f5fd",
   "metadata": {},
   "source": [
    "### 自动化"
   ]
  },
  {
   "cell_type": "code",
   "id": "96145af663d4e403",
   "metadata": {
    "ExecuteTime": {
     "end_time": "2024-05-12T07:12:29.631861Z",
     "start_time": "2024-05-12T07:12:29.628057Z"
    }
   },
   "source": [
    "def auto_clean(production,start):\n",
    "    end_production = clean_UtoU(production)\n",
    "    tag = True\n",
    "    while tag:\n",
    "        end_production = clean_Utou1(end_production,start)\n",
    "        if end_production == end_production:\n",
    "            tag = False\n",
    "        end_production = clean_Utou2(end_production)\n",
    "        if end_production == end_production:\n",
    "            tag = False\n",
    "    return end_production"
   ],
   "execution_count": 11,
   "outputs": []
  },
  {
   "cell_type": "markdown",
   "id": "a30a0c8cc1e69828",
   "metadata": {},
   "source": [
    "检验输出"
   ]
  },
  {
   "cell_type": "code",
   "id": "75dd17616d9faac8",
   "metadata": {
    "ExecuteTime": {
     "end_time": "2024-05-12T07:12:30.438607Z",
     "start_time": "2024-05-12T07:12:30.434118Z"
    }
   },
   "source": [
    "print_productions(e_P)\n",
    "print('')\n",
    "acl = auto_clean(e_P,e_S)\n",
    "print_productions(acl)"
   ],
   "execution_count": 12,
   "outputs": []
  },
  {
   "cell_type": "markdown",
   "id": "b1205b63b0872de2",
   "metadata": {},
   "source": [
    "# Part III 消除左递归 Eliminate left recursion"
   ]
  },
  {
   "cell_type": "markdown",
   "id": "830aa311-454b-4dac-9c25-6059a6c19a5a",
   "metadata": {},
   "source": [
    "### 测试数据"
   ]
  },
  {
   "cell_type": "code",
   "id": "42166b4a66b808c",
   "metadata": {
    "ExecuteTime": {
     "end_time": "2024-05-12T07:12:31.364355Z",
     "start_time": "2024-05-12T07:12:31.360097Z"
    }
   },
   "source": [
    "left_recursion_string = \"S ::= Sa | Tbc | Td\\nT ::= Se | gh\"\n",
    "left_recursion_string_1 = \"A ::= Ba | Cb | c\\nB ::= da | Ae | f\\nC ::= Bg | h\"\n",
    "print(left_recursion_string,'\\n')\n",
    "print(left_recursion_string_1)"
   ],
   "execution_count": 13,
   "outputs": []
  },
  {
   "cell_type": "code",
   "id": "cfc35100b4acc723",
   "metadata": {
    "ExecuteTime": {
     "end_time": "2024-05-12T07:12:31.648587Z",
     "start_time": "2024-05-12T07:12:31.644854Z"
    }
   },
   "source": [
    "l_Vt_1,l_Vn_1,l_P_1,l_S_1 = extract_grammar_components(left_recursion_string_1)\n",
    "print(l_Vt_1)\n",
    "print(l_Vn_1)\n",
    "print(l_P_1)\n",
    "print(l_S_1)"
   ],
   "execution_count": 14,
   "outputs": []
  },
  {
   "cell_type": "code",
   "id": "688351eb673f5023",
   "metadata": {
    "ExecuteTime": {
     "end_time": "2024-05-12T07:12:31.883375Z",
     "start_time": "2024-05-12T07:12:31.879728Z"
    }
   },
   "source": [
    "l_Vt,l_Vn,l_P,l_S = extract_grammar_components(left_recursion_string)\n",
    "print(l_Vt)\n",
    "print(l_Vn)\n",
    "print(l_P)\n",
    "print(l_S)"
   ],
   "execution_count": 15,
   "outputs": []
  },
  {
   "cell_type": "markdown",
   "id": "94ed8797-2178-4cd0-963b-8174da46a578",
   "metadata": {},
   "source": [
    "### 函数方法实现"
   ]
  },
  {
   "cell_type": "code",
   "id": "19f35472f0905f1a",
   "metadata": {
    "ExecuteTime": {
     "end_time": "2024-05-12T07:12:32.275668Z",
     "start_time": "2024-05-12T07:12:32.266935Z"
    }
   },
   "source": [
    "def remove_production(non_terminal, production, productions):\n",
    "    if non_terminal in productions and production in productions[non_terminal]:\n",
    "        productions[non_terminal].remove(production)\n",
    "        if not productions[non_terminal]:  # If the set becomes empty, remove the key\n",
    "            del productions[non_terminal]\n",
    "\n",
    "def eliminate_rules(key_item,value_item,production):\n",
    "    end_production = copy.deepcopy(production)\n",
    "    mid_key_item = key_item\n",
    "    end_key_item = mid_key_item + \"'\"\n",
    "    mid_value_item = value_item.copy()\n",
    "    end_value_item = value_item.copy()\n",
    "    # 先改后删\n",
    "    for i in range(len(end_value_item)):\n",
    "        if end_value_item[i] == mid_key_item:\n",
    "            end_value_item.pop(i)\n",
    "            end_value_item.append(end_key_item)\n",
    "            break\n",
    "    for item in end_production[mid_key_item]:\n",
    "        if item == mid_value_item: continue\n",
    "        if mid_key_item in item: continue\n",
    "        if end_key_item in item: continue\n",
    "        item.append(end_key_item)\n",
    "    remove_production(mid_key_item,mid_value_item,end_production)\n",
    "    add_production(end_key_item,end_value_item,end_production)\n",
    "    if ['ε'] not in end_production[end_key_item]:\n",
    "        add_production(end_key_item,['ε'],end_production)\n",
    "    else:\n",
    "        remove_production(end_key_item,['ε'],end_production)\n",
    "        add_production(end_key_item,['ε'],end_production)\n",
    "    return end_production\n",
    "        \n",
    "def auto_eliminate_rules(productions):\n",
    "    end_productions = copy.deepcopy(productions)\n",
    "    tag = True\n",
    "    while tag:\n",
    "        tag = False\n",
    "        for key in end_productions:\n",
    "            for item in end_productions[key]:\n",
    "                # 消去规则左递归\n",
    "                if key in item and len(key) == 1:\n",
    "                    tag = True\n",
    "                    end_productions = eliminate_rules(key,item,end_productions)  \n",
    "    return end_productions\n",
    "\n",
    "\n",
    "def eliminate_grammar(productions):\n",
    "    mid_productions = copy.deepcopy(productions)\n",
    "    end_productions = copy.deepcopy(productions)\n",
    "    mid_changed_keys_list = []\n",
    "    for key in productions:\n",
    "        if \"'\" in key:\n",
    "            mid_changed_keys_list.append(key.replace(\"'\",''))\n",
    "    flg = False\n",
    "    for key in mid_productions:\n",
    "        if key in mid_changed_keys_list: continue\n",
    "        for item in mid_productions[key]:\n",
    "            tag = False\n",
    "            for i in range(len(item)):\n",
    "                if item[i] in mid_changed_keys_list:\n",
    "                    tag = True\n",
    "                    flg = True\n",
    "                    for item_i in mid_productions[item[i]]:\n",
    "                        end_item = item.copy()\n",
    "                        end_item.pop(i)\n",
    "                        end_item[i:i] = item_i\n",
    "                        add_production(key,end_item,end_productions)\n",
    "            if tag:\n",
    "                remove_production(key,item,end_productions)\n",
    "    return end_productions,flg           "
   ],
   "execution_count": 16,
   "outputs": []
  },
  {
   "cell_type": "markdown",
   "id": "8a06ff5cf10c1341",
   "metadata": {},
   "source": [
    "**检验输出**"
   ]
  },
  {
   "cell_type": "code",
   "id": "8226b3c69ba155ee",
   "metadata": {
    "ExecuteTime": {
     "end_time": "2024-05-12T07:12:32.592095Z",
     "start_time": "2024-05-12T07:12:32.587562Z"
    }
   },
   "source": [
    "# l_P = {'S': [['Q', 'c'], ['R', 'd'], ['c']],\n",
    "#                   'Q': [['R', 'b'], ['S', 'e'], ['b']],\n",
    "#                   'R': [['S', 'a'], ['Q', 'f'], ['a']]}\n",
    "l_P = {'S': [['S', 'a'], ['T', 'b', 'c'], ['T', 'd']], \n",
    "       'T': [['S', 'e'], ['g', 'h']]}\n",
    "print_productions(l_P)\n",
    "print('\\n')\n",
    "l_Pr = auto_eliminate_rules(l_P)\n",
    "print_productions(l_Pr)\n",
    "print('\\n')\n",
    "l_Pg,flg = eliminate_grammar(l_Pr)\n",
    "print_productions(l_Pg)\n",
    "print(flg,'\\n')\n",
    "l_Pg2,flg = eliminate_grammar(l_Pg)\n",
    "print_productions(l_Pg2)\n",
    "print(flg,'\\n')"
   ],
   "execution_count": 17,
   "outputs": []
  },
  {
   "cell_type": "markdown",
   "id": "912a94f29b43e2b8",
   "metadata": {},
   "source": [
    "### 自动化"
   ]
  },
  {
   "cell_type": "code",
   "id": "bacfed1af08a4d46",
   "metadata": {
    "ExecuteTime": {
     "end_time": "2024-05-12T07:12:32.908061Z",
     "start_time": "2024-05-12T07:12:32.904524Z"
    }
   },
   "source": [
    "def auto_eliminate_left_recursion(productions):\n",
    "    end_productions = copy.deepcopy(productions)\n",
    "    while True:  \n",
    "        end_productions = auto_eliminate_rules(end_productions)\n",
    "        end_productions,flg = eliminate_grammar(end_productions)\n",
    "        if not flg:\n",
    "            break\n",
    "    return end_productions"
   ],
   "execution_count": 18,
   "outputs": []
  },
  {
   "cell_type": "markdown",
   "id": "586a06751c5638d3",
   "metadata": {},
   "source": [
    "**检验输出**"
   ]
  },
  {
   "cell_type": "code",
   "id": "c2d13dae242832db",
   "metadata": {
    "ExecuteTime": {
     "end_time": "2024-05-12T07:12:33.267419Z",
     "start_time": "2024-05-12T07:12:33.263877Z"
    }
   },
   "source": [
    "print_productions(l_P)\n",
    "l_Pc = auto_eliminate_left_recursion(l_P)\n",
    "print('')\n",
    "print_productions(l_Pc)"
   ],
   "execution_count": 19,
   "outputs": []
  },
  {
   "cell_type": "code",
   "id": "a50d2c9c36330f01",
   "metadata": {
    "ExecuteTime": {
     "end_time": "2024-05-12T07:12:33.481136Z",
     "start_time": "2024-05-12T07:12:33.477743Z"
    }
   },
   "source": [
    "print_productions(P)\n",
    "Pc = auto_eliminate_left_recursion(P)\n",
    "print('')\n",
    "print_productions(Pc)"
   ],
   "execution_count": 20,
   "outputs": []
  },
  {
   "cell_type": "markdown",
   "id": "b4716332ae43d5aa",
   "metadata": {},
   "source": [
    "# Part IV 最左推导 Leftmost derivation"
   ]
  },
  {
   "cell_type": "markdown",
   "id": "d376c05a-76aa-4bfb-b026-764d4cc34b23",
   "metadata": {},
   "source": [
    "### 测试数据"
   ]
  },
  {
   "cell_type": "code",
   "id": "a803cccf2cb7d875",
   "metadata": {
    "ExecuteTime": {
     "end_time": "2024-05-12T07:12:34.019799Z",
     "start_time": "2024-05-12T07:12:34.016800Z"
    }
   },
   "source": [
    "print_productions(P)"
   ],
   "execution_count": 21,
   "outputs": []
  },
  {
   "cell_type": "code",
   "id": "ad75a9b4ed0fad08",
   "metadata": {
    "ExecuteTime": {
     "end_time": "2024-05-12T07:12:34.223563Z",
     "start_time": "2024-05-12T07:12:34.220029Z"
    }
   },
   "source": [
    "derivation_string = \"i + i * i\"\n",
    "derivation_string_1 = \"( i + i ) * i\"\n",
    "print(derivation_string)\n",
    "print(derivation_string_1)"
   ],
   "execution_count": 22,
   "outputs": []
  },
  {
   "cell_type": "markdown",
   "id": "e82bf4fc5a3c5c70",
   "metadata": {},
   "source": [
    "### 构建推导方法函数"
   ]
  },
  {
   "cell_type": "code",
   "id": "639efef6176495f6",
   "metadata": {
    "ExecuteTime": {
     "end_time": "2024-05-12T07:12:34.591473Z",
     "start_time": "2024-05-12T07:12:34.584733Z"
    }
   },
   "source": [
    "def input_judgment(derived_string, key, end_string,pos):\n",
    "    while True:\n",
    "        answer = input(\"\\nDerive {} with {} -> {}? pos: {} (y/n): \\n\".format(derived_string, key, end_string,pos))\n",
    "        if answer == 'y':\n",
    "            return False\n",
    "        elif answer == 'n':\n",
    "            return True\n",
    "        else:\n",
    "            print(\"Please enter 'y' or 'n'\")\n",
    "            continue\n",
    "    # 如果回答不是'y'，则跳过当前产生式\n",
    "\n",
    "\n",
    "def find_value_in_list(lst, value):\n",
    "    for i, item in enumerate(lst):\n",
    "        if item == value:\n",
    "            return i\n",
    "    return -1\n",
    "\n",
    "\n",
    "def auto_derivation(input_str, productions, start_symbol):\n",
    "    derived_string = [start_symbol]  # 初始时将起始符号作为推导的起点\n",
    "    result = \"\"  # 存储推导结果\n",
    "    tree = {}  # 存储语法分析树\n",
    "    # 逐步推导直到无法再推导为止\n",
    "    while derived_string:\n",
    "        derived = False  # 标志是否成功推导\n",
    "        # 遍历所有产生式\n",
    "        for key in productions:\n",
    "            # 如果当前推导串中包含产生式左部，则问询是否进行替换\n",
    "            if key in derived_string:\n",
    "                for item in productions[key]:\n",
    "                    # 问询是否替换\n",
    "                    end_string = \"\".join(item)\n",
    "                    mid_string = \"\".join(derived_string)\n",
    "\n",
    "                    pos = find_value_in_list(derived_string, key)\n",
    "                    if input_judgment(mid_string, key, end_string,pos + 1):\n",
    "                        continue  # 如果回答不是'y'，则跳过当前产生式\n",
    "                    \n",
    "                    # 将当前推导过程添加到结果中\n",
    "                    result += \" => {} ({} -> {})\\n\".format(mid_string, key, end_string)\n",
    "\n",
    "                    # 进行替换\n",
    "                    derived_string[pos:pos+1] = item\n",
    "                    derived = True  # 表示成功推导\n",
    "                    \n",
    "                    end_item = [pos + 1,item]\n",
    "                    # 更新语法分析树\n",
    "                    if key in tree:\n",
    "                        tree[key].append(end_item)\n",
    "                    else:\n",
    "                        tree[key] = [end_item]\n",
    "                    break  # 结束当前循环，重新开始检查推导串\n",
    "\n",
    "                # 如果成功推导，就跳出外层循环\n",
    "                if derived:\n",
    "                    break\n",
    "\n",
    "        # 如果无法再进行推导，则退出循环\n",
    "        if derived_string == input_str:\n",
    "            mid_string_out = \"\".join(derived_string)\n",
    "            result += \" => {}\\n\".format(mid_string_out)\n",
    "            break\n",
    "        if not derived:\n",
    "            mid_string_out = \"\".join(derived_string)\n",
    "            result += \" => {}\\n\".format(mid_string_out)\n",
    "            break\n",
    "\n",
    "    return result, tree\n"
   ],
   "execution_count": 23,
   "outputs": []
  },
  {
   "cell_type": "markdown",
   "id": "99490bb15ce205fe",
   "metadata": {},
   "source": [
    "检验输出"
   ]
  },
  {
   "cell_type": "code",
   "id": "8c2e73610c884706",
   "metadata": {
    "ExecuteTime": {
     "end_time": "2024-05-12T07:12:40.359385Z",
     "start_time": "2024-05-12T07:12:34.952505Z"
    }
   },
   "source": [
    "PP = {'Ems': [['Ems', '+', 'Tfs'], ['Tfs']], 'Tfs': [['Tfs', '*', \"F'\"], [\"F'\"]], \"F'\": [['(', 'Ems', ')'], ['iss']]}\n",
    "SS = 'Ems'\n",
    "DD = 'iss + iss + iss'\n",
    "rel, tre = auto_derivation(DD, PP, SS)\n",
    "print(rel)\n",
    "print(tre)"
   ],
   "execution_count": 24,
   "outputs": []
  },
  {
   "cell_type": "markdown",
   "id": "86bdcf2826c2ebf5",
   "metadata": {},
   "source": "# Part V 语法分析树构建 Parse Tree"
  },
  {
   "cell_type": "markdown",
   "id": "7406ca88-e602-411e-9b87-bfa27218b232",
   "metadata": {},
   "source": [
    "### 函数方法实现"
   ]
  },
  {
   "metadata": {},
   "cell_type": "markdown",
   "source": "",
   "id": "bf3823bff33a1950"
  },
  {
   "cell_type": "code",
   "id": "4a3a3b5e83ac82f6",
   "metadata": {
    "ExecuteTime": {
     "end_time": "2024-05-12T07:12:43.490450Z",
     "start_time": "2024-05-12T07:12:43.484439Z"
    }
   },
   "source": [
    "import copy\n",
    "\n",
    "def insert_separator_uniformly(lst):\n",
    "    n = len(lst)\n",
    "    new_lst = [None] * (2 * n - 1)  # 创建一个新列表，长度为2n-1\n",
    "\n",
    "    # 将原列表中的元素和23交替插入新列表中\n",
    "    for i in range(n):\n",
    "        new_lst[i * 2] = lst[i]\n",
    "        if i < n - 1:\n",
    "            new_lst[i * 2 + 1] = '_'*10\n",
    "\n",
    "    return new_lst\n",
    "\n",
    "def generate_tree(tree, start):\n",
    "    mid_tree = copy.deepcopy(tree)\n",
    "    pre_string = [\"_\" * 10] + [start]\n",
    "    result = ''.join(pre_string) + '\\n'\n",
    "    tag = True\n",
    "    while tag:\n",
    "        tag = False\n",
    "        # cur_string = []\n",
    "        j = 0\n",
    "        for i in range(len(pre_string)):\n",
    "            if pre_string[i] == '_' * 10: \n",
    "                continue\n",
    "            j += 1\n",
    "            if pre_string[i] in mid_tree:\n",
    "                tag = True\n",
    "                item_left, item_rigth = mid_tree[pre_string[i]][0]\n",
    "                if j == item_left:\n",
    "                    mid_tree[pre_string[i]].pop(0)\n",
    "                    pre_string[i:i+1] =  insert_separator_uniformly(item_rigth)\n",
    "                    # cur_string = pre_string[:i] + insert_separator_uniformly(item_rigth) + pre_string[i + 1:]\n",
    "                    break\n",
    "        result += ''.join(pre_string) + '\\n'\n",
    "        # pre_string = cur_string\n",
    "    return result\n"
   ],
   "execution_count": 25,
   "outputs": []
  },
  {
   "cell_type": "markdown",
   "id": "477ef2f0b438ced8",
   "metadata": {},
   "source": [
    "**检验输出**"
   ]
  },
  {
   "cell_type": "code",
   "id": "710131152ba9e5f0",
   "metadata": {
    "ExecuteTime": {
     "end_time": "2024-05-12T07:12:44.241821Z",
     "start_time": "2024-05-12T07:12:44.237638Z"
    }
   },
   "source": [
    "# 测试\n",
    "print(\"语法分析树：\")\n",
    "TT = {'Ems': [[1, ['Ems', '+', 'Tfs']], [1, ['Ems', '+', 'Tfs']], [1, ['Tfs']]], 'Tfs': [[1, [\"F'\"]], [3, [\"F'\"]], [5, [\"F'\"]]], \"F'\": [[1, ['iss']], [3, ['iss']], [5, ['iss']]]}\n",
    "ans = generate_tree(TT, SS)\n",
    "print(ans)"
   ],
   "execution_count": 26,
   "outputs": []
  },
  {
   "metadata": {},
   "cell_type": "markdown",
   "source": "# Part VI 从正则文法构造有穷状态自动机 finite state automata",
   "id": "7b7788c0a5a1ecb2"
  },
  {
   "metadata": {
    "ExecuteTime": {
     "end_time": "2024-05-12T07:12:44.945188Z",
     "start_time": "2024-05-12T07:12:44.930897Z"
    }
   },
   "cell_type": "code",
   "source": [
    "from extract_grammar import GrammaticalQuadrupleExtraction\n",
    "# from data.grammar import grammar_str8\n",
    "grammar_str8 = (\"Z ::= Z a | A a | B b\\n\"\n",
    "                \"A ::= B a | Z a | a\\n\"\n",
    "                \"B ::= A b | B a | b\")\n",
    "Vt,Vn,P,S = GrammaticalQuadrupleExtraction().extract_grammar_components(grammar_str8)\n",
    "print(grammar_str8,'\\n')\n",
    "print(\"Vt: \",Vt)\n",
    "print(\"Vn: \",Vn)\n",
    "print(\"P: \",P)\n",
    "print(\"S: \",S)"
   ],
   "id": "43bebf8ebe62447a",
   "execution_count": 27,
   "outputs": []
  },
  {
   "metadata": {
    "ExecuteTime": {
     "end_time": "2024-05-12T07:12:45.346145Z",
     "start_time": "2024-05-12T07:12:45.341641Z"
    }
   },
   "cell_type": "code",
   "source": [
    "def finite_state_automata(grammar_str):\n",
    "    terminators, non_terminators,productions,start = GrammaticalQuadrupleExtraction().extract_grammar_components(grammar_str)\n",
    "    states = terminators + ['My_end'] # 状态集合 K\n",
    "    alphabet = non_terminators # 符号集合 Σ\n",
    "    transition_function = {} # 转移函数 M\n",
    "    start_state = ['My_end'] # 起始状态 S\n",
    "    accept_state = start # 接受状态 F \n",
    "    \n",
    "    matrix = {row_label: {col_label: None for col_label in alphabet} for row_label in states}\n",
    "    for key in productions:\n",
    "        for item in productions[key]:\n",
    "            if len(item) == 1:\n",
    "                matrix['My_end'][item[0]] = key\n",
    "            if len(item) == 2:\n",
    "                matrix[item[0]][item[1]] = key\n",
    "    transition_function = matrix\n",
    "    print(states)\n",
    "    print(alphabet)\n",
    "    print(transition_function)\n",
    "    print(start_state)\n",
    "    print(accept_state)"
   ],
   "id": "1a76d9e9592f9401",
   "execution_count": 28,
   "outputs": []
  },
  {
   "metadata": {
    "ExecuteTime": {
     "end_time": "2024-05-12T07:12:45.731491Z",
     "start_time": "2024-05-12T07:12:45.727970Z"
    }
   },
   "cell_type": "code",
   "source": "finite_state_automata(grammar_str8)",
   "id": "8d9397321b720125",
   "execution_count": 29,
   "outputs": []
  },
  {
   "metadata": {},
   "cell_type": "markdown",
   "source": [
    "# 2.0\n",
    "- 目前未考虑Z ::= aa 之类右部只有一个终结符的情况\n",
    "- 目前未考虑右部长度大于二的情况"
   ],
   "id": "3e46c312068ba47b"
  },
  {
   "metadata": {
    "ExecuteTime": {
     "end_time": "2024-05-12T23:18:34.605820Z",
     "start_time": "2024-05-12T23:18:34.595945Z"
    }
   },
   "cell_type": "code",
   "source": [
    "# 2.0\n",
    "def finite_state_automata2(grammar_str):\n",
    "    terminators, non_terminators,productions,start = GrammaticalQuadrupleExtraction().extract_grammar_components(grammar_str)\n",
    "    states = terminators + ['My_end'] # 状态集合 K\n",
    "    alphabet = non_terminators # 符号集合 Σ\n",
    "    transition_function = {} # 转移函数 M\n",
    "    start_state = ['My_end'] # 起始状态 S\n",
    "    accept_state = [start] # 接受状态 F \n",
    "    \n",
    "    matrix = {row_label: {col_label: None for col_label in alphabet} for row_label in states}\n",
    "    for key in productions:\n",
    "        for item in productions[key]:\n",
    "            if len(item) == 1:# 右部只有一个终结符\n",
    "                if ('My_end', item[0]) not in transition_function:\n",
    "                    transition_function[('My_end', item[0])] = [key]\n",
    "                else:\n",
    "                    transition_function[('My_end', item[0])].append(key)\n",
    "                # matrix['My_end'][item[0]] = key\n",
    "            if len(item) == 2:\n",
    "                if (item[0], item[1]) not in transition_function:\n",
    "                    transition_function[(item[0], item[1])] = [key]\n",
    "                else:\n",
    "                    transition_function[(item[0], item[1])].append(key)\n",
    "    return states, alphabet, transition_function, start_state, accept_state"
   ],
   "id": "7cf769048729dcee",
   "execution_count": 1,
   "outputs": []
  },
  {
   "metadata": {
    "ExecuteTime": {
     "end_time": "2024-05-12T23:19:45.622177Z",
     "start_time": "2024-05-12T23:19:45.618115Z"
    }
   },
   "cell_type": "code",
   "source": [
    "def transition_function_print(transition_function):\n",
    "    result = ''\n",
    "    for row_label, row_data in transition_function.items():\n",
    "        # print(\"M\",row_label, \"=\", row_data)\n",
    "        result += \"M(\" + ','.join(row_label) + \") = {\" + ','.join(row_data) + '}\\n'\n",
    "    return result"
   ],
   "id": "830ab1d54527c836",
   "execution_count": 2,
   "outputs": []
  },
  {
   "metadata": {
    "ExecuteTime": {
     "end_time": "2024-05-12T23:19:46.462606Z",
     "start_time": "2024-05-12T23:19:46.454882Z"
    }
   },
   "cell_type": "code",
   "source": [
    "from extract_grammar import GrammaticalQuadrupleExtraction\n",
    "grammar_str8 = (\"Z ::= Z a | A a | B b\\n\"\n",
    "                \"A ::= B a | Z a | a\\n\"\n",
    "                \"B ::= A b | B a | b\")"
   ],
   "id": "11671dc46e566eeb",
   "execution_count": 3,
   "outputs": []
  },
  {
   "metadata": {
    "ExecuteTime": {
     "end_time": "2024-05-12T23:19:47.173574Z",
     "start_time": "2024-05-12T23:19:47.169566Z"
    }
   },
   "cell_type": "code",
   "source": [
    "# finite_state_automata2(grammar_str8)\n",
    "states, alphabet, transition_function, start_state, accept_state = finite_state_automata2(grammar_str8)\n",
    "print(\"K : {\"+ ','.join(states)+'}')\n",
    "print(\"Σ : {\"+ ','.join(alphabet) + '}')\n",
    "print(\"M : \")\n",
    "print(transition_function)\n",
    "print(\"S : {\"+','.join(start_state)+'}')\n",
    "print(\"F : {\"+','.join(accept_state)+'}')"
   ],
   "id": "a7f8cf1bfa4f2d99",
   "execution_count": 4,
   "outputs": []
  },
  {
   "metadata": {
    "ExecuteTime": {
     "end_time": "2024-05-12T23:19:48.477198Z",
     "start_time": "2024-05-12T23:19:48.473699Z"
    }
   },
   "cell_type": "code",
   "source": "print(transition_function_print(transition_function))\n",
   "id": "1aa748af23f29dc1",
   "execution_count": 5,
   "outputs": []
  },
  {
   "metadata": {},
   "cell_type": "markdown",
   "source": [
    "\n",
    "## FA构建与确定化\n",
    "- NFA->DFA\n",
    "- DFA简化"
   ],
   "id": "375f294173d4276c"
  },
  {
   "metadata": {},
   "cell_type": "markdown",
   "source": "### 尝试运行",
   "id": "99b76e981fe87616"
  },
  {
   "metadata": {
    "ExecuteTime": {
     "end_time": "2024-05-12T23:19:54.871404Z",
     "start_time": "2024-05-12T23:19:54.866691Z"
    }
   },
   "cell_type": "code",
   "source": [
    "class FiniteAutomaton:\n",
    "    def __init__(self, K, sigma, M, S, F):\n",
    "        self.states = set(K)  # 状态集合\n",
    "        self.alphabet = set(sigma)  # 输入字母表\n",
    "        self.transitions = M  # 状态转移函数\n",
    "        self.start_state = S[0]  # 初始状态\n",
    "        self.accept_states = F  # 接受状态集合\n",
    "\n",
    "    def run(self, input_string):\n",
    "        current_state = self.start_state\n",
    "        for symbol in input_string:\n",
    "            if (current_state, symbol) in self.transitions:\n",
    "                mid_state = self.transitions[(current_state, symbol)]\n",
    "                current_state = mid_state[0]\n",
    "                # print(current_state)\n",
    "            else:\n",
    "                return False\n",
    "        return current_state in self.accept_states\n",
    "\n",
    "\n",
    "# 从给定的五元组构建有穷状态自动机\n",
    "def construct_fsm(K, sigma, M, S, F):\n",
    "    return FiniteAutomaton(K, sigma, M, S, F)\n",
    "\n"
   ],
   "id": "c99907a9e31511ab",
   "execution_count": 6,
   "outputs": []
  },
  {
   "metadata": {
    "ExecuteTime": {
     "end_time": "2024-05-12T23:19:55.273973Z",
     "start_time": "2024-05-12T23:19:55.270297Z"
    }
   },
   "cell_type": "code",
   "source": [
    "# 例子\n",
    "# A ::= S 0 | A 1 | 0\n",
    "# B ::= A 0 | B 0 | B 1 | 1\n",
    "grammar_str81 = (\"B ::= A 1 | B 0 | B 1 | 1\\n\"\n",
    "                 \"A ::= A 0 | 0\\n\")\n",
    "K,sigma,M,S,F = finite_state_automata2(grammar_str81)\n",
    "print(K,sigma,M,S,F)\n",
    "\n",
    "# M = {('S', '0'): 'A', ('S', '1'): 'B', ('A', '0'): 'A', ('A', '1'): 'B', ('B', '0'): 'B', ('B', '1'):'B'}\n",
    "# K = {'S', 'A', 'B'}\n",
    "# S = 'S'\n",
    "# F = {'B'}\n",
    "\n",
    "\n",
    "# print(K,sigma,M,S,F)\n",
    "# 给定的五元组\n",
    "# sigma = {'0', '1'}\n",
    "\n"
   ],
   "id": "33fc523788cb6893",
   "execution_count": 7,
   "outputs": []
  },
  {
   "metadata": {
    "ExecuteTime": {
     "end_time": "2024-05-12T23:19:55.847270Z",
     "start_time": "2024-05-12T23:19:55.844580Z"
    }
   },
   "cell_type": "code",
   "source": [
    "# M[('S', '0')][0]\n",
    "# M = {('S', '0'): 'A', ('S', '1'): 'B', ('A', '0'): 'A', ('A', '1'): 'B', ('B', '0'): 'B', ('B', '1'): 'B'}\n",
    "# M[('S', '0')]"
   ],
   "id": "670b0cfc202e29ae",
   "execution_count": 8,
   "outputs": []
  },
  {
   "metadata": {
    "ExecuteTime": {
     "end_time": "2024-05-12T23:19:56.532424Z",
     "start_time": "2024-05-12T23:19:56.529347Z"
    }
   },
   "cell_type": "code",
   "source": [
    "# 构建有穷状态自动机\n",
    "fsm = construct_fsm(K, sigma, M, S, F)\n"
   ],
   "id": "da12ceda189cd64c",
   "execution_count": 9,
   "outputs": []
  },
  {
   "metadata": {
    "ExecuteTime": {
     "end_time": "2024-05-12T23:19:56.920700Z",
     "start_time": "2024-05-12T23:19:56.917028Z"
    }
   },
   "cell_type": "code",
   "source": [
    "# 测试字符串\n",
    "test_strings = ['010', '111', '1001', '00', '11']\n",
    "\n",
    "# 运行有穷状态自动机并输出结果\n",
    "for s in test_strings:\n",
    "    print(f\"String '{s}' matches: {fsm.run(s)}\")"
   ],
   "id": "ad9f3ccd0386944b",
   "execution_count": 10,
   "outputs": []
  },
  {
   "metadata": {
    "ExecuteTime": {
     "end_time": "2024-05-12T23:19:58.100407Z",
     "start_time": "2024-05-12T23:19:58.097136Z"
    }
   },
   "cell_type": "code",
   "source": "fsm = construct_fsm(states, alphabet, transition_function, start_state, accept_state)\n",
   "id": "e97d094f7bf131bb",
   "execution_count": 11,
   "outputs": []
  },
  {
   "metadata": {
    "ExecuteTime": {
     "end_time": "2024-05-12T23:19:58.408053Z",
     "start_time": "2024-05-12T23:19:58.401503Z"
    }
   },
   "cell_type": "code",
   "source": "transition_function[('Z', 'a')][0]",
   "id": "ae44a8cf1e254e6c",
   "execution_count": 12,
   "outputs": []
  },
  {
   "metadata": {
    "ExecuteTime": {
     "end_time": "2024-05-12T23:19:59.188410Z",
     "start_time": "2024-05-12T23:19:59.185378Z"
    }
   },
   "cell_type": "code",
   "source": [
    "test_strings = ['ba','babb','babbabb']\n",
    "\n",
    "for ts in test_strings:\n",
    "    print(f\"String '{ts}' matches: {fsm.run(ts)}\")"
   ],
   "id": "cd804e9990bed889",
   "execution_count": 13,
   "outputs": []
  },
  {
   "metadata": {},
   "cell_type": "markdown",
   "source": "## NFA勉强能跑，但是这是强制在有两个目标状态的情况下选择其一的无奈之举",
   "id": "81d9e8822f1cd46d"
  },
  {
   "metadata": {},
   "cell_type": "markdown",
   "source": "### 接下来实现NFA到DFA的转换",
   "id": "89c9952f18efade9"
  },
  {
   "metadata": {
    "ExecuteTime": {
     "end_time": "2024-05-12T23:20:02.420758Z",
     "start_time": "2024-05-12T23:20:02.417783Z"
    }
   },
   "cell_type": "code",
   "source": "print(transition_function)",
   "id": "e579ecd575b2bb74",
   "execution_count": 14,
   "outputs": []
  },
  {
   "metadata": {
    "ExecuteTime": {
     "end_time": "2024-05-12T23:20:03.172120Z",
     "start_time": "2024-05-12T23:20:03.165931Z"
    }
   },
   "cell_type": "code",
   "source": [
    "import copy\n",
    "\n",
    "tf = copy.deepcopy(transition_function)\n",
    "new_tf = {}  # 创建一个新的字典来保存修改后的键值对\n",
    "\n",
    "tag = True\n",
    "while tag:\n",
    "    # tag = False\n",
    "    for key in tf:\n",
    "        if len(tf[key]) != 1:\n",
    "            # tag = True\n",
    "            mid_key = \"\".join(tf[key])  # 将值拼接成一个字符串作为新键\n",
    "            mid_key_list = tf[key]  # 将值列表作为新键的值\n",
    "            new_values = {}\n",
    "            for item in alphabet:\n",
    "                list1 = []\n",
    "                for sub_key in mid_key_list:\n",
    "                    try:\n",
    "                        list1 += tf[(sub_key, item)]\n",
    "                    except KeyError:\n",
    "                        continue\n",
    "                unique_list = list(set(list1))\n",
    "                new_tf[(mid_key,item)] = unique_list  # 将新键值对添加到新字典中\n",
    "            tf[key] = [mid_key]\n",
    "    # 更新原始字典\n",
    "    tf.update(new_tf)\n",
    "    # 检测是否到达转化完成的条件\n",
    "    for key in tf:\n",
    "        if len(tf[key]) != 1:\n",
    "            mid_key_judgment = ''.join(tf[key])\n",
    "            # print(mid_key_judgment)\n",
    "            for word in alphabet:\n",
    "                if (mid_key_judgment,word) in tf:\n",
    "                    # print(mid_key_judgment)\n",
    "                    tag = False\n",
    "    if not tag:\n",
    "        for key in tf:\n",
    "            if len(tf[key]) != 1:\n",
    "                mid_list = ''.join(set(''.join(tf[key])))\n",
    "                tf[key] = [mid_list]\n",
    "# 输出更新后的字典\n",
    "print(transition_function_print(tf))\n",
    "# print(tf)\n"
   ],
   "id": "52c2df5ffb7c646",
   "execution_count": 15,
   "outputs": []
  },
  {
   "metadata": {},
   "cell_type": "markdown",
   "source": [
    "#### 问题与解决：没有标识终止状态\n",
    "- 太粗糙"
   ],
   "id": "a471a84403462550"
  },
  {
   "metadata": {
    "ExecuteTime": {
     "end_time": "2024-05-06T00:31:03.870280Z",
     "start_time": "2024-05-06T00:31:03.867081Z"
    }
   },
   "cell_type": "code",
   "source": "print(accept_state)",
   "id": "5fa004641f6b6e8b",
   "execution_count": 84,
   "outputs": []
  },
  {
   "metadata": {
    "ExecuteTime": {
     "end_time": "2024-05-12T23:20:12.266385Z",
     "start_time": "2024-05-12T23:20:12.258728Z"
    }
   },
   "cell_type": "code",
   "source": [
    "import copy\n",
    "\n",
    "tf = copy.deepcopy(transition_function)\n",
    "mid_accept_state = copy.deepcopy(accept_state)\n",
    "new_tf = {}  # 创建一个新的字典来保存修改后的键值对\n",
    "\n",
    "tag = True\n",
    "while tag:\n",
    "    # tag = False\n",
    "    for key in tf:\n",
    "        if len(tf[key]) != 1:\n",
    "            # tag = True\n",
    "            mid_key = \"\".join(tf[key])  # 将值拼接成一个字符串作为新键\n",
    "            mid_key_list = tf[key]  # 将值列表作为新键的值\n",
    "            new_values = {}\n",
    "            for item in alphabet:\n",
    "                list1 = []\n",
    "                for sub_key in mid_key_list:\n",
    "                    try:\n",
    "                        list1 += tf[(sub_key, item)]\n",
    "                    except KeyError:\n",
    "                        continue\n",
    "                unique_list = list(set(list1))\n",
    "                new_tf[(mid_key,item)] = unique_list  # 将新键值对添加到新字典中\n",
    "            tf[key] = [mid_key]\n",
    "    # 更新原始字典\n",
    "    tf.update(new_tf)\n",
    "    # 检测是否到达转化完成的条件\n",
    "    for key in tf:\n",
    "        if len(tf[key]) != 1:\n",
    "            mid_key_judgment = ''.join(tf[key])\n",
    "            # print(mid_key_judgment)\n",
    "            for word in alphabet:\n",
    "                if (mid_key_judgment,word) in tf:\n",
    "                    # print(mid_key_judgment)\n",
    "                    tag = False\n",
    "    if not tag:\n",
    "        for key in tf:\n",
    "            if len(tf[key]) != 1:\n",
    "                mid_list = ''.join(set(''.join(tf[key])))\n",
    "                tf[key] = [mid_list]\n",
    "        # 如果新键含有终止状态，将其放入终止状态表\n",
    "        for key in tf:\n",
    "            for item in tf[key]:\n",
    "                # print(item)\n",
    "                for item_s in item:\n",
    "                    if item_s in accept_state:\n",
    "                        mid_accept_state.append(item)\n",
    "                \n",
    "mid_accept_state = list(set(mid_accept_state))\n",
    "mid_state = list(set(states+mid_accept_state))\n",
    "# 输出更新后的字典\n",
    "print(transition_function_print(tf))\n",
    "print(tf)\n",
    "print(alphabet)\n",
    "print(mid_accept_state)\n",
    "print(mid_state)\n",
    "# print(tf)\n"
   ],
   "id": "5beaf19e97a44fd2",
   "execution_count": 16,
   "outputs": []
  },
  {
   "metadata": {
    "ExecuteTime": {
     "end_time": "2024-05-06T01:34:46.665586Z",
     "start_time": "2024-05-06T01:34:46.662374Z"
    }
   },
   "cell_type": "code",
   "source": "fsm = construct_fsm(mid_state, alphabet, tf, start_state, mid_accept_state)\n",
   "id": "9e84d41be4a63b2b",
   "execution_count": 121,
   "outputs": []
  },
  {
   "metadata": {
    "ExecuteTime": {
     "end_time": "2024-05-06T01:34:47.791678Z",
     "start_time": "2024-05-06T01:34:47.788359Z"
    }
   },
   "cell_type": "code",
   "source": [
    "fsm = construct_fsm(mid_state, alphabet, tf, start_state, mid_accept_state)\n",
    "\n",
    "# 测试字符串\n",
    "test_strings = ['ba', 'babb', 'babba', 'babbbb', 'bb']\n",
    "\n",
    "# 运行有穷状态自动机并输出结果\n",
    "for s in test_strings:\n",
    "    print(f\"String '{s}' matches: {fsm.run(s)}\")"
   ],
   "id": "6dce3754c7af3836",
   "execution_count": 122,
   "outputs": []
  },
  {
   "metadata": {},
   "cell_type": "markdown",
   "source": [
    "## 总结当前未考虑的情况与限制\n",
    "- 非终结符只有**单个**的\n",
    "- 终结符只有**单个**的\n",
    "- 未考虑**除样例外**的其余状况"
   ],
   "id": "8f8a138a6bf67ebb"
  },
  {
   "metadata": {},
   "cell_type": "markdown",
   "source": "#### 总结：未来尝试只使用索引代替中间态",
   "id": "30de98eb1c4bc674"
  },
  {
   "metadata": {},
   "cell_type": "markdown",
   "source": "### DFA简化",
   "id": "c8192a844a166044"
  },
  {
   "metadata": {
    "ExecuteTime": {
     "end_time": "2024-05-06T01:34:50.786182Z",
     "start_time": "2024-05-06T01:34:50.781883Z"
    }
   },
   "cell_type": "code",
   "source": [
    "mid_tf = copy.deepcopy(tf)\n",
    "mid_accept_state_2 = copy.deepcopy(mid_accept_state)\n",
    "dynamic_accept_state = set() # 存储动态终止状态\n",
    "dynamic_no_accept_state = set() # 存储动态非终止状态\n",
    "\n",
    "# 初始化\n",
    "for key in mid_tf:\n",
    "    for item in mid_tf[key]:\n",
    "        if item in mid_accept_state_2:\n",
    "            dynamic_accept_state.add(item)\n",
    "        else:\n",
    "            dynamic_no_accept_state.add(item)\n",
    "print(dynamic_accept_state)\n",
    "print(dynamic_no_accept_state)"
   ],
   "id": "d23edc11f0567b99",
   "execution_count": 123,
   "outputs": []
  },
  {
   "metadata": {},
   "cell_type": "markdown",
   "source": "",
   "id": "c8f82494554e03fb"
  },
  {
   "metadata": {
    "ExecuteTime": {
     "end_time": "2024-05-06T01:37:56.282170Z",
     "start_time": "2024-05-06T01:37:56.276762Z"
    }
   },
   "cell_type": "code",
   "source": [
    "def minimize_dfa(states, alphabet, transition_function, final_states):\n",
    "    # 初始划分，将终态和非终态分开\n",
    "    partition = [set(final_states), set(states) - set(final_states)]\n",
    "    # print(partition)\n",
    "\n",
    "    while True:\n",
    "        new_partition = []\n",
    "        for group in partition:\n",
    "            split_group = []\n",
    "            for state in group:\n",
    "                transitions = {}\n",
    "                for symbol in alphabet:\n",
    "                    try:\n",
    "                        next_state = transition_function[(state, symbol)][0]\n",
    "                    except KeyError:\n",
    "                        continue\n",
    "                    # 查找状态的转移目标所在的分组\n",
    "                    for idx, part in enumerate(partition):\n",
    "                        if next_state in part:\n",
    "                            transitions[symbol] = idx\n",
    "                            break\n",
    "                split_group.append((state, transitions))\n",
    "\n",
    "            # 根据转移目标所在的分组将状态分组\n",
    "            groups = {}\n",
    "            for state, trans in split_group:\n",
    "                key = tuple(trans.values())\n",
    "                if key not in groups:\n",
    "                    groups[key] = [state]\n",
    "                else:\n",
    "                    groups[key].append(state)\n",
    "\n",
    "            # 将分组结果加入到新分组列表中\n",
    "            new_partition.extend(groups.values())\n",
    "\n",
    "        # 如果新分组和旧组相同，则达到最小化\n",
    "        if new_partition == partition:\n",
    "            break\n",
    "        else:\n",
    "            partition = new_partition\n",
    "\n",
    "    # 将等价状态替换为代表状态\n",
    "    equivalent_states = {}\n",
    "    for idx, group in enumerate(partition):\n",
    "        for state in group:\n",
    "            equivalent_states[state] = idx\n",
    "\n",
    "    return equivalent_states\n"
   ],
   "id": "cd0b82355c863f5a",
   "execution_count": 131,
   "outputs": []
  },
  {
   "metadata": {
    "ExecuteTime": {
     "end_time": "2024-05-06T01:37:56.514892Z",
     "start_time": "2024-05-06T01:37:56.511396Z"
    }
   },
   "cell_type": "code",
   "source": [
    "eqs = minimize_dfa(mid_state, alphabet, mid_tf, mid_accept_state)\n",
    "print(eqs)"
   ],
   "id": "aa720bd06a1aee6b",
   "execution_count": 132,
   "outputs": []
  },
  {
   "metadata": {
    "ExecuteTime": {
     "end_time": "2024-05-06T01:40:53.042258Z",
     "start_time": "2024-05-06T01:40:53.037720Z"
    }
   },
   "cell_type": "code",
   "source": [
    "for key in eqs:\n",
    "    for key_2 in eqs:\n",
    "        if eqs[key] == eqs[key_2]:\n",
    "            if key != key_2:\n",
    "                for symbol in alphabet:\n",
    "                    try:\n",
    "                        del mid_tf[(key,symbol)]\n",
    "                    except KeyError:\n",
    "                        continue\n",
    "print(mid_tf)"
   ],
   "id": "f5b77d9db39b3812",
   "execution_count": 134,
   "outputs": []
  },
  {
   "metadata": {},
   "cell_type": "markdown",
   "source": [
    "### 总结\n",
    "暂时未考虑更多情况\n",
    "- 五元组提取\n",
    "- NFA到DFA\n",
    "- DFA运行\n",
    "- DFA最小化\n",
    "\n",
    "### 未来展望：\n",
    "- 使用更简便的数据结构\n",
    "- 优化代码逻辑\n",
    "- 将代码按功能打包\n",
    "- 构造GUI交互窗口"
   ],
   "id": "933fcbcf5fbeb344"
  },
  {
   "metadata": {},
   "cell_type": "code",
   "execution_count": null,
   "source": "",
   "id": "b58104e88f43bdab",
   "outputs": []
  }
 ],
 "metadata": {
  "kernelspec": {
   "display_name": "Python 3 (ipykernel)",
   "language": "python",
   "name": "python3"
  },
  "language_info": {
   "codemirror_mode": {
    "name": "ipython",
    "version": 3
   },
   "file_extension": ".py",
   "mimetype": "text/x-python",
   "name": "python",
   "nbconvert_exporter": "python",
   "pygments_lexer": "ipython3",
   "version": "3.11.5"
  }
 },
 "nbformat": 4,
 "nbformat_minor": 5
}
